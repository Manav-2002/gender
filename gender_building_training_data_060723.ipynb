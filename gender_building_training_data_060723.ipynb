{
  "nbformat": 4,
  "nbformat_minor": 0,
  "metadata": {
    "colab": {
      "provenance": []
    },
    "kernelspec": {
      "name": "python3",
      "display_name": "Python 3"
    },
    "language_info": {
      "name": "python"
    }
  },
  "cells": [
    {
      "cell_type": "code",
      "execution_count": null,
      "metadata": {
        "colab": {
          "base_uri": "https://localhost:8080/"
        },
        "id": "emK5EXYjWHsP",
        "outputId": "b765a876-e368-4901-de88-7a2874e3926a"
      },
      "outputs": [
        {
          "output_type": "stream",
          "name": "stdout",
          "text": [
            "Mounted at /content/drive\n"
          ]
        }
      ],
      "source": [
        "from google.colab import drive\n",
        "drive.mount('/content/drive', force_remount = True)"
      ]
    },
    {
      "cell_type": "code",
      "source": [
        "filepath = \"/content/drive/MyDrive/Colab Notebooks/DATASETS/NAMES/\""
      ],
      "metadata": {
        "id": "UUFJ6DZUWVaM"
      },
      "execution_count": null,
      "outputs": []
    },
    {
      "cell_type": "code",
      "source": [
        "import pandas as pd"
      ],
      "metadata": {
        "id": "x0G5soXtWh1r"
      },
      "execution_count": null,
      "outputs": []
    },
    {
      "cell_type": "code",
      "source": [
        "names = pd.read_csv(filepath + 'gender_cbse.csv')"
      ],
      "metadata": {
        "id": "Yc_x6IeSWkWz"
      },
      "execution_count": null,
      "outputs": []
    },
    {
      "cell_type": "code",
      "source": [
        "names.tail(10)"
      ],
      "metadata": {
        "colab": {
          "base_uri": "https://localhost:8080/",
          "height": 363
        },
        "id": "kH_Aeys9W_Kc",
        "outputId": "dc1eea06-c4ce-4dfe-f63a-c423bdc96116"
      },
      "execution_count": null,
      "outputs": [
        {
          "output_type": "execute_result",
          "data": {
            "text/plain": [
              "        Roll No.                  Name         Mothers Name     Fathers Name\n",
              "209095   4654991          JESBIN JACOB           BIJI JACOB        JACOB C J\n",
              "209096   4654992         JINTU VINCENT        JESSY VINCENT   VINCENT GOSEPH\n",
              "209097   4654993            JOMAL JOSE  TREESA MARIA THOMAS      JOSE THOMAS\n",
              "209098   4654994         JOSBIN JOSEPH                JOLLY            JOSHY\n",
              "209099   4654995        JUSTINE GEORGE         SHYNI GEORGE       N A GEORGE\n",
              "209100   4654996         KIRAN K SHAJI            SOPHYAMMA            SHAJI\n",
              "209101   4654997         MATHEW GEORGE          ELSAMMA T S  GEORGE MECHERIL\n",
              "209102   4654998            MIDLAJ V P              ZAREENA         MUHAMMED\n",
              "209103   4654999  MUHAMMED SHAHANU C C       C C SAIBUNNISA        K ABDULLA\n",
              "209104   4655000                 NIMIL               MINI M        MOHANAN T"
            ],
            "text/html": [
              "\n",
              "  <div id=\"df-d3a38bf7-bfd7-4ad6-b1a5-458cc984a3b4\">\n",
              "    <div class=\"colab-df-container\">\n",
              "      <div>\n",
              "<style scoped>\n",
              "    .dataframe tbody tr th:only-of-type {\n",
              "        vertical-align: middle;\n",
              "    }\n",
              "\n",
              "    .dataframe tbody tr th {\n",
              "        vertical-align: top;\n",
              "    }\n",
              "\n",
              "    .dataframe thead th {\n",
              "        text-align: right;\n",
              "    }\n",
              "</style>\n",
              "<table border=\"1\" class=\"dataframe\">\n",
              "  <thead>\n",
              "    <tr style=\"text-align: right;\">\n",
              "      <th></th>\n",
              "      <th>Roll No.</th>\n",
              "      <th>Name</th>\n",
              "      <th>Mothers Name</th>\n",
              "      <th>Fathers Name</th>\n",
              "    </tr>\n",
              "  </thead>\n",
              "  <tbody>\n",
              "    <tr>\n",
              "      <th>209095</th>\n",
              "      <td>4654991</td>\n",
              "      <td>JESBIN JACOB</td>\n",
              "      <td>BIJI JACOB</td>\n",
              "      <td>JACOB C J</td>\n",
              "    </tr>\n",
              "    <tr>\n",
              "      <th>209096</th>\n",
              "      <td>4654992</td>\n",
              "      <td>JINTU VINCENT</td>\n",
              "      <td>JESSY VINCENT</td>\n",
              "      <td>VINCENT GOSEPH</td>\n",
              "    </tr>\n",
              "    <tr>\n",
              "      <th>209097</th>\n",
              "      <td>4654993</td>\n",
              "      <td>JOMAL JOSE</td>\n",
              "      <td>TREESA MARIA THOMAS</td>\n",
              "      <td>JOSE THOMAS</td>\n",
              "    </tr>\n",
              "    <tr>\n",
              "      <th>209098</th>\n",
              "      <td>4654994</td>\n",
              "      <td>JOSBIN JOSEPH</td>\n",
              "      <td>JOLLY</td>\n",
              "      <td>JOSHY</td>\n",
              "    </tr>\n",
              "    <tr>\n",
              "      <th>209099</th>\n",
              "      <td>4654995</td>\n",
              "      <td>JUSTINE GEORGE</td>\n",
              "      <td>SHYNI GEORGE</td>\n",
              "      <td>N A GEORGE</td>\n",
              "    </tr>\n",
              "    <tr>\n",
              "      <th>209100</th>\n",
              "      <td>4654996</td>\n",
              "      <td>KIRAN K SHAJI</td>\n",
              "      <td>SOPHYAMMA</td>\n",
              "      <td>SHAJI</td>\n",
              "    </tr>\n",
              "    <tr>\n",
              "      <th>209101</th>\n",
              "      <td>4654997</td>\n",
              "      <td>MATHEW GEORGE</td>\n",
              "      <td>ELSAMMA T S</td>\n",
              "      <td>GEORGE MECHERIL</td>\n",
              "    </tr>\n",
              "    <tr>\n",
              "      <th>209102</th>\n",
              "      <td>4654998</td>\n",
              "      <td>MIDLAJ V P</td>\n",
              "      <td>ZAREENA</td>\n",
              "      <td>MUHAMMED</td>\n",
              "    </tr>\n",
              "    <tr>\n",
              "      <th>209103</th>\n",
              "      <td>4654999</td>\n",
              "      <td>MUHAMMED SHAHANU C C</td>\n",
              "      <td>C C SAIBUNNISA</td>\n",
              "      <td>K ABDULLA</td>\n",
              "    </tr>\n",
              "    <tr>\n",
              "      <th>209104</th>\n",
              "      <td>4655000</td>\n",
              "      <td>NIMIL</td>\n",
              "      <td>MINI M</td>\n",
              "      <td>MOHANAN T</td>\n",
              "    </tr>\n",
              "  </tbody>\n",
              "</table>\n",
              "</div>\n",
              "      <button class=\"colab-df-convert\" onclick=\"convertToInteractive('df-d3a38bf7-bfd7-4ad6-b1a5-458cc984a3b4')\"\n",
              "              title=\"Convert this dataframe to an interactive table.\"\n",
              "              style=\"display:none;\">\n",
              "        \n",
              "  <svg xmlns=\"http://www.w3.org/2000/svg\" height=\"24px\"viewBox=\"0 0 24 24\"\n",
              "       width=\"24px\">\n",
              "    <path d=\"M0 0h24v24H0V0z\" fill=\"none\"/>\n",
              "    <path d=\"M18.56 5.44l.94 2.06.94-2.06 2.06-.94-2.06-.94-.94-2.06-.94 2.06-2.06.94zm-11 1L8.5 8.5l.94-2.06 2.06-.94-2.06-.94L8.5 2.5l-.94 2.06-2.06.94zm10 10l.94 2.06.94-2.06 2.06-.94-2.06-.94-.94-2.06-.94 2.06-2.06.94z\"/><path d=\"M17.41 7.96l-1.37-1.37c-.4-.4-.92-.59-1.43-.59-.52 0-1.04.2-1.43.59L10.3 9.45l-7.72 7.72c-.78.78-.78 2.05 0 2.83L4 21.41c.39.39.9.59 1.41.59.51 0 1.02-.2 1.41-.59l7.78-7.78 2.81-2.81c.8-.78.8-2.07 0-2.86zM5.41 20L4 18.59l7.72-7.72 1.47 1.35L5.41 20z\"/>\n",
              "  </svg>\n",
              "      </button>\n",
              "      \n",
              "  <style>\n",
              "    .colab-df-container {\n",
              "      display:flex;\n",
              "      flex-wrap:wrap;\n",
              "      gap: 12px;\n",
              "    }\n",
              "\n",
              "    .colab-df-convert {\n",
              "      background-color: #E8F0FE;\n",
              "      border: none;\n",
              "      border-radius: 50%;\n",
              "      cursor: pointer;\n",
              "      display: none;\n",
              "      fill: #1967D2;\n",
              "      height: 32px;\n",
              "      padding: 0 0 0 0;\n",
              "      width: 32px;\n",
              "    }\n",
              "\n",
              "    .colab-df-convert:hover {\n",
              "      background-color: #E2EBFA;\n",
              "      box-shadow: 0px 1px 2px rgba(60, 64, 67, 0.3), 0px 1px 3px 1px rgba(60, 64, 67, 0.15);\n",
              "      fill: #174EA6;\n",
              "    }\n",
              "\n",
              "    [theme=dark] .colab-df-convert {\n",
              "      background-color: #3B4455;\n",
              "      fill: #D2E3FC;\n",
              "    }\n",
              "\n",
              "    [theme=dark] .colab-df-convert:hover {\n",
              "      background-color: #434B5C;\n",
              "      box-shadow: 0px 1px 3px 1px rgba(0, 0, 0, 0.15);\n",
              "      filter: drop-shadow(0px 1px 2px rgba(0, 0, 0, 0.3));\n",
              "      fill: #FFFFFF;\n",
              "    }\n",
              "  </style>\n",
              "\n",
              "      <script>\n",
              "        const buttonEl =\n",
              "          document.querySelector('#df-d3a38bf7-bfd7-4ad6-b1a5-458cc984a3b4 button.colab-df-convert');\n",
              "        buttonEl.style.display =\n",
              "          google.colab.kernel.accessAllowed ? 'block' : 'none';\n",
              "\n",
              "        async function convertToInteractive(key) {\n",
              "          const element = document.querySelector('#df-d3a38bf7-bfd7-4ad6-b1a5-458cc984a3b4');\n",
              "          const dataTable =\n",
              "            await google.colab.kernel.invokeFunction('convertToInteractive',\n",
              "                                                     [key], {});\n",
              "          if (!dataTable) return;\n",
              "\n",
              "          const docLinkHtml = 'Like what you see? Visit the ' +\n",
              "            '<a target=\"_blank\" href=https://colab.research.google.com/notebooks/data_table.ipynb>data table notebook</a>'\n",
              "            + ' to learn more about interactive tables.';\n",
              "          element.innerHTML = '';\n",
              "          dataTable['output_type'] = 'display_data';\n",
              "          await google.colab.output.renderOutput(dataTable, element);\n",
              "          const docLink = document.createElement('div');\n",
              "          docLink.innerHTML = docLinkHtml;\n",
              "          element.appendChild(docLink);\n",
              "        }\n",
              "      </script>\n",
              "    </div>\n",
              "  </div>\n",
              "  "
            ]
          },
          "metadata": {},
          "execution_count": 5
        }
      ]
    },
    {
      "cell_type": "code",
      "source": [
        "print(names.shape[0])\n",
        "names.info()"
      ],
      "metadata": {
        "colab": {
          "base_uri": "https://localhost:8080/"
        },
        "id": "vreYg1A_XAwP",
        "outputId": "7f6c71a8-15c9-49da-c190-5c086092f72d"
      },
      "execution_count": null,
      "outputs": [
        {
          "output_type": "stream",
          "name": "stdout",
          "text": [
            "209105\n",
            "<class 'pandas.core.frame.DataFrame'>\n",
            "RangeIndex: 209105 entries, 0 to 209104\n",
            "Data columns (total 4 columns):\n",
            " #   Column        Non-Null Count   Dtype \n",
            "---  ------        --------------   ----- \n",
            " 0   Roll No.      209105 non-null  int64 \n",
            " 1   Name          209105 non-null  object\n",
            " 2   Mothers Name  209104 non-null  object\n",
            " 3   Fathers Name  209094 non-null  object\n",
            "dtypes: int64(1), object(3)\n",
            "memory usage: 6.4+ MB\n"
          ]
        }
      ]
    },
    {
      "cell_type": "code",
      "source": [
        "names.isna().sum()"
      ],
      "metadata": {
        "colab": {
          "base_uri": "https://localhost:8080/"
        },
        "id": "HbzWq1MEXt61",
        "outputId": "f7d53d99-b9fb-492c-9639-065f4c4a8a09"
      },
      "execution_count": null,
      "outputs": [
        {
          "output_type": "execute_result",
          "data": {
            "text/plain": [
              "Roll No.         0\n",
              "Name             0\n",
              "Mothers Name     1\n",
              "Fathers Name    11\n",
              "dtype: int64"
            ]
          },
          "metadata": {},
          "execution_count": 4
        }
      ]
    },
    {
      "cell_type": "code",
      "source": [
        "names.fillna('', inplace = True)"
      ],
      "metadata": {
        "id": "vg-uI21gZLa0"
      },
      "execution_count": null,
      "outputs": []
    },
    {
      "cell_type": "code",
      "source": [
        "names.isna().sum()"
      ],
      "metadata": {
        "colab": {
          "base_uri": "https://localhost:8080/"
        },
        "id": "VxxHeLqGDLTc",
        "outputId": "753e534b-4768-4e45-bcae-b8e9504dd581"
      },
      "execution_count": null,
      "outputs": [
        {
          "output_type": "execute_result",
          "data": {
            "text/plain": [
              "Roll No.        0\n",
              "Name            0\n",
              "Mothers Name    0\n",
              "Fathers Name    0\n",
              "dtype: int64"
            ]
          },
          "metadata": {},
          "execution_count": 6
        }
      ]
    },
    {
      "cell_type": "code",
      "source": [
        "def convert2lower(text):\n",
        "    return text.lower()"
      ],
      "metadata": {
        "id": "6mmigu4uXIjI"
      },
      "execution_count": null,
      "outputs": []
    },
    {
      "cell_type": "code",
      "source": [
        "names['Name'] = names['Name'].apply(convert2lower)\n",
        "names['Mothers Name'] = names['Mothers Name'].apply(convert2lower)\n",
        "names['Fathers Name'] = names['Fathers Name'].apply(convert2lower)"
      ],
      "metadata": {
        "id": "9CZBoz-RzH3A"
      },
      "execution_count": null,
      "outputs": []
    },
    {
      "cell_type": "code",
      "source": [
        "names.sample(10)"
      ],
      "metadata": {
        "colab": {
          "base_uri": "https://localhost:8080/",
          "height": 363
        },
        "id": "IQkC2ZxSzHz6",
        "outputId": "2978ab1c-7f75-481e-d239-34a7ba705dac"
      },
      "execution_count": null,
      "outputs": [
        {
          "output_type": "execute_result",
          "data": {
            "text/plain": [
              "        Roll No.            name            female                 male\n",
              "171526   4614392  s jabez daniel  d rose bell suja  g r silvance daniel\n",
              "156666   9203717     azwar jahan      ishrat jahan          jamal nasir\n",
              "81501    9126487     nikita garg       kavita garg          mukesh garg\n",
              "175948   4618317       p s akash        g vanammal      p k sunil kumar\n",
              "182695   4629071    athul george     sheeba george      george varghese\n",
              "13866    4668392   bhakti ramesh            vijaya               ramesh\n",
              "81487    9126473  chandan sharma      manju sharma   vijay kumar sharma\n",
              "3979     4658488    aditya verma       neelu verma          vinay verma\n",
              "85306    9124299      rahul rana      pallavi rana         pradeep rana\n",
              "167866   4610730        k kamali        m pounthai          r karuppiah"
            ],
            "text/html": [
              "\n",
              "  <div id=\"df-653ede77-74dc-4385-a794-a0bfd4ccafd9\">\n",
              "    <div class=\"colab-df-container\">\n",
              "      <div>\n",
              "<style scoped>\n",
              "    .dataframe tbody tr th:only-of-type {\n",
              "        vertical-align: middle;\n",
              "    }\n",
              "\n",
              "    .dataframe tbody tr th {\n",
              "        vertical-align: top;\n",
              "    }\n",
              "\n",
              "    .dataframe thead th {\n",
              "        text-align: right;\n",
              "    }\n",
              "</style>\n",
              "<table border=\"1\" class=\"dataframe\">\n",
              "  <thead>\n",
              "    <tr style=\"text-align: right;\">\n",
              "      <th></th>\n",
              "      <th>Roll No.</th>\n",
              "      <th>name</th>\n",
              "      <th>female</th>\n",
              "      <th>male</th>\n",
              "    </tr>\n",
              "  </thead>\n",
              "  <tbody>\n",
              "    <tr>\n",
              "      <th>171526</th>\n",
              "      <td>4614392</td>\n",
              "      <td>s jabez daniel</td>\n",
              "      <td>d rose bell suja</td>\n",
              "      <td>g r silvance daniel</td>\n",
              "    </tr>\n",
              "    <tr>\n",
              "      <th>156666</th>\n",
              "      <td>9203717</td>\n",
              "      <td>azwar jahan</td>\n",
              "      <td>ishrat jahan</td>\n",
              "      <td>jamal nasir</td>\n",
              "    </tr>\n",
              "    <tr>\n",
              "      <th>81501</th>\n",
              "      <td>9126487</td>\n",
              "      <td>nikita garg</td>\n",
              "      <td>kavita garg</td>\n",
              "      <td>mukesh garg</td>\n",
              "    </tr>\n",
              "    <tr>\n",
              "      <th>175948</th>\n",
              "      <td>4618317</td>\n",
              "      <td>p s akash</td>\n",
              "      <td>g vanammal</td>\n",
              "      <td>p k sunil kumar</td>\n",
              "    </tr>\n",
              "    <tr>\n",
              "      <th>182695</th>\n",
              "      <td>4629071</td>\n",
              "      <td>athul george</td>\n",
              "      <td>sheeba george</td>\n",
              "      <td>george varghese</td>\n",
              "    </tr>\n",
              "    <tr>\n",
              "      <th>13866</th>\n",
              "      <td>4668392</td>\n",
              "      <td>bhakti ramesh</td>\n",
              "      <td>vijaya</td>\n",
              "      <td>ramesh</td>\n",
              "    </tr>\n",
              "    <tr>\n",
              "      <th>81487</th>\n",
              "      <td>9126473</td>\n",
              "      <td>chandan sharma</td>\n",
              "      <td>manju sharma</td>\n",
              "      <td>vijay kumar sharma</td>\n",
              "    </tr>\n",
              "    <tr>\n",
              "      <th>3979</th>\n",
              "      <td>4658488</td>\n",
              "      <td>aditya verma</td>\n",
              "      <td>neelu verma</td>\n",
              "      <td>vinay verma</td>\n",
              "    </tr>\n",
              "    <tr>\n",
              "      <th>85306</th>\n",
              "      <td>9124299</td>\n",
              "      <td>rahul rana</td>\n",
              "      <td>pallavi rana</td>\n",
              "      <td>pradeep rana</td>\n",
              "    </tr>\n",
              "    <tr>\n",
              "      <th>167866</th>\n",
              "      <td>4610730</td>\n",
              "      <td>k kamali</td>\n",
              "      <td>m pounthai</td>\n",
              "      <td>r karuppiah</td>\n",
              "    </tr>\n",
              "  </tbody>\n",
              "</table>\n",
              "</div>\n",
              "      <button class=\"colab-df-convert\" onclick=\"convertToInteractive('df-653ede77-74dc-4385-a794-a0bfd4ccafd9')\"\n",
              "              title=\"Convert this dataframe to an interactive table.\"\n",
              "              style=\"display:none;\">\n",
              "        \n",
              "  <svg xmlns=\"http://www.w3.org/2000/svg\" height=\"24px\"viewBox=\"0 0 24 24\"\n",
              "       width=\"24px\">\n",
              "    <path d=\"M0 0h24v24H0V0z\" fill=\"none\"/>\n",
              "    <path d=\"M18.56 5.44l.94 2.06.94-2.06 2.06-.94-2.06-.94-.94-2.06-.94 2.06-2.06.94zm-11 1L8.5 8.5l.94-2.06 2.06-.94-2.06-.94L8.5 2.5l-.94 2.06-2.06.94zm10 10l.94 2.06.94-2.06 2.06-.94-2.06-.94-.94-2.06-.94 2.06-2.06.94z\"/><path d=\"M17.41 7.96l-1.37-1.37c-.4-.4-.92-.59-1.43-.59-.52 0-1.04.2-1.43.59L10.3 9.45l-7.72 7.72c-.78.78-.78 2.05 0 2.83L4 21.41c.39.39.9.59 1.41.59.51 0 1.02-.2 1.41-.59l7.78-7.78 2.81-2.81c.8-.78.8-2.07 0-2.86zM5.41 20L4 18.59l7.72-7.72 1.47 1.35L5.41 20z\"/>\n",
              "  </svg>\n",
              "      </button>\n",
              "      \n",
              "  <style>\n",
              "    .colab-df-container {\n",
              "      display:flex;\n",
              "      flex-wrap:wrap;\n",
              "      gap: 12px;\n",
              "    }\n",
              "\n",
              "    .colab-df-convert {\n",
              "      background-color: #E8F0FE;\n",
              "      border: none;\n",
              "      border-radius: 50%;\n",
              "      cursor: pointer;\n",
              "      display: none;\n",
              "      fill: #1967D2;\n",
              "      height: 32px;\n",
              "      padding: 0 0 0 0;\n",
              "      width: 32px;\n",
              "    }\n",
              "\n",
              "    .colab-df-convert:hover {\n",
              "      background-color: #E2EBFA;\n",
              "      box-shadow: 0px 1px 2px rgba(60, 64, 67, 0.3), 0px 1px 3px 1px rgba(60, 64, 67, 0.15);\n",
              "      fill: #174EA6;\n",
              "    }\n",
              "\n",
              "    [theme=dark] .colab-df-convert {\n",
              "      background-color: #3B4455;\n",
              "      fill: #D2E3FC;\n",
              "    }\n",
              "\n",
              "    [theme=dark] .colab-df-convert:hover {\n",
              "      background-color: #434B5C;\n",
              "      box-shadow: 0px 1px 3px 1px rgba(0, 0, 0, 0.15);\n",
              "      filter: drop-shadow(0px 1px 2px rgba(0, 0, 0, 0.3));\n",
              "      fill: #FFFFFF;\n",
              "    }\n",
              "  </style>\n",
              "\n",
              "      <script>\n",
              "        const buttonEl =\n",
              "          document.querySelector('#df-653ede77-74dc-4385-a794-a0bfd4ccafd9 button.colab-df-convert');\n",
              "        buttonEl.style.display =\n",
              "          google.colab.kernel.accessAllowed ? 'block' : 'none';\n",
              "\n",
              "        async function convertToInteractive(key) {\n",
              "          const element = document.querySelector('#df-653ede77-74dc-4385-a794-a0bfd4ccafd9');\n",
              "          const dataTable =\n",
              "            await google.colab.kernel.invokeFunction('convertToInteractive',\n",
              "                                                     [key], {});\n",
              "          if (!dataTable) return;\n",
              "\n",
              "          const docLinkHtml = 'Like what you see? Visit the ' +\n",
              "            '<a target=\"_blank\" href=https://colab.research.google.com/notebooks/data_table.ipynb>data table notebook</a>'\n",
              "            + ' to learn more about interactive tables.';\n",
              "          element.innerHTML = '';\n",
              "          dataTable['output_type'] = 'display_data';\n",
              "          await google.colab.output.renderOutput(dataTable, element);\n",
              "          const docLink = document.createElement('div');\n",
              "          docLink.innerHTML = docLinkHtml;\n",
              "          element.appendChild(docLink);\n",
              "        }\n",
              "      </script>\n",
              "    </div>\n",
              "  </div>\n",
              "  "
            ]
          },
          "metadata": {},
          "execution_count": 88
        }
      ]
    },
    {
      "cell_type": "code",
      "source": [
        "names.rename( columns = {\"Name\": \"name\",\n",
        "                         \"Mothers Name\":\"female\",\n",
        "                         \"Fathers Name\": \"male\"}, inplace = True )"
      ],
      "metadata": {
        "id": "QYvA81FgzHwn"
      },
      "execution_count": null,
      "outputs": []
    },
    {
      "cell_type": "code",
      "source": [
        "names.isna().sum()"
      ],
      "metadata": {
        "colab": {
          "base_uri": "https://localhost:8080/"
        },
        "id": "IL39ciLH7hkt",
        "outputId": "cb6adbea-97d0-4a35-b9f2-1bcf0fa168a1"
      },
      "execution_count": null,
      "outputs": [
        {
          "output_type": "execute_result",
          "data": {
            "text/plain": [
              "Roll No.    0\n",
              "name        0\n",
              "female      0\n",
              "male        0\n",
              "dtype: int64"
            ]
          },
          "metadata": {},
          "execution_count": 94
        }
      ]
    },
    {
      "cell_type": "code",
      "source": [
        "def first_name_extraction(mother_name, father_name):\n",
        "    mother_name = mother_name #row['female']\n",
        "    father_name = father_name #row['male']\n",
        "\n",
        "    mother_name_list = mother_name.split()\n",
        "    father_name_list = father_name.split()\n",
        "\n",
        "    if len(mother_name_list) > 0 and len(father_name_list) > 0:\n",
        "\n",
        "        if len(mother_name_list) == 1 and len(father_name_list) == 1: # jolly | joshy\n",
        "            return mother_name_list[0], father_name_list[0]\n",
        "\n",
        "        elif (len(mother_name_list) == 3 and len(father_name_list) == 3):\n",
        "            mother_first, mother_middle, mother_last = mother_name_list[0], mother_name_list[1], mother_name_list[2]\n",
        "            father_first, father_middle, father_last = father_name_list[0], father_name_list[1], father_name_list[2]\n",
        "\n",
        "            if len(mother_last) == 1 and len(father_last) == 1:\n",
        "                return mother_first, father_first\n",
        "            elif mother_last == father_last:\n",
        "                return mother_first, father_first\n",
        "            else:\n",
        "                if mother_first == father_first and mother_last == father_middle:\n",
        "                    return mother_middle, father_middle\n",
        "                elif mother_first == father_first and mother_last == father_last:\n",
        "                    return mother_middle, father_middle\n",
        "                elif len(mother_middle) == 1 and len(father_middle) != 1:\n",
        "                    return mother_last, father_middle\n",
        "\n",
        "        else:\n",
        "            mother_firstname, mother_lastname = mother_name_list[0], mother_name_list[-1]\n",
        "            father_firstname, father_lastname = father_name_list[0], father_name_list[-1]\n",
        "\n",
        "            if mother_lastname == father_lastname:\n",
        "                if len(father_firstname) > 1: # treesa maria thomas | jose thomas\n",
        "                    return mother_firstname, father_firstname\n",
        "                else:\n",
        "                    return mother_firstname, father_lastname  # shyni george | n a george\n",
        "\n",
        "            else:\n",
        "                if mother_lastname == father_firstname: # biji jacob | jacob c j\n",
        "                    return mother_firstname, father_firstname\n",
        "                else:\n",
        "                    if (len(mother_lastname) == 1 and len(father_lastname) == 1) and (len(mother_firstname) > 1 and len(father_firstname) > 1): # mini m | mohanan t\n",
        "                        return mother_firstname, father_firstname\n",
        "\n",
        "                    elif (len(mother_firstname) == 1 and len(father_firstname) == 1) and (len(mother_lastname) > 1 and len(father_lastname) > 1): # c c saibunnisa | k abdulla\n",
        "                        return mother_lastname, father_lastname\n",
        "\n",
        "                    elif len(mother_lastname) == 1 and len(father_firstname) == 1:\n",
        "                        return mother_firstname, father_lastname\n",
        "                    else:\n",
        "                        return mother_firstname, father_firstname\n",
        "\n",
        "    else:\n",
        "        if len(mother_name_list) == 0:\n",
        "            return \"NA\", father_name_list[0]\n",
        "        elif len(father_name_list) == 0:\n",
        "            return mother_name_list[0], \"NA\""
      ],
      "metadata": {
        "id": "3_ENT95WacXp"
      },
      "execution_count": null,
      "outputs": []
    },
    {
      "cell_type": "code",
      "source": [
        "first_name_extraction(\"m pounthai\", \"r karuppiah\")"
      ],
      "metadata": {
        "colab": {
          "base_uri": "https://localhost:8080/"
        },
        "id": "bQNpZLoymUKu",
        "outputId": "031aa343-d640-4360-becf-d7ce0c3a1083"
      },
      "execution_count": null,
      "outputs": [
        {
          "output_type": "execute_result",
          "data": {
            "text/plain": [
              "('pounthai', 'karuppiah')"
            ]
          },
          "metadata": {},
          "execution_count": 90
        }
      ]
    },
    {
      "cell_type": "code",
      "source": [
        "names.head()"
      ],
      "metadata": {
        "colab": {
          "base_uri": "https://localhost:8080/",
          "height": 206
        },
        "id": "9iFvI0BwDkL9",
        "outputId": "773a4d0c-d310-45c9-fc2a-8deaea93289d"
      },
      "execution_count": null,
      "outputs": [
        {
          "output_type": "execute_result",
          "data": {
            "text/plain": [
              "   Roll No.        name        female         male\n",
              "0   3612501  liter riba     dabi riba    doli riba\n",
              "1   3612502  linya ango    tumbi ango   jumli ango\n",
              "2   3612503  mogam padu    minsa padu   rajum padu\n",
              "3   3612504  minu bagra  pakter bagra  domin bagra\n",
              "4   3612505  minyir ori    jirbom ori    kimen ori"
            ],
            "text/html": [
              "\n",
              "  <div id=\"df-e6e2101f-a1f6-4301-88d5-feb945a5ac9e\">\n",
              "    <div class=\"colab-df-container\">\n",
              "      <div>\n",
              "<style scoped>\n",
              "    .dataframe tbody tr th:only-of-type {\n",
              "        vertical-align: middle;\n",
              "    }\n",
              "\n",
              "    .dataframe tbody tr th {\n",
              "        vertical-align: top;\n",
              "    }\n",
              "\n",
              "    .dataframe thead th {\n",
              "        text-align: right;\n",
              "    }\n",
              "</style>\n",
              "<table border=\"1\" class=\"dataframe\">\n",
              "  <thead>\n",
              "    <tr style=\"text-align: right;\">\n",
              "      <th></th>\n",
              "      <th>Roll No.</th>\n",
              "      <th>name</th>\n",
              "      <th>female</th>\n",
              "      <th>male</th>\n",
              "    </tr>\n",
              "  </thead>\n",
              "  <tbody>\n",
              "    <tr>\n",
              "      <th>0</th>\n",
              "      <td>3612501</td>\n",
              "      <td>liter riba</td>\n",
              "      <td>dabi riba</td>\n",
              "      <td>doli riba</td>\n",
              "    </tr>\n",
              "    <tr>\n",
              "      <th>1</th>\n",
              "      <td>3612502</td>\n",
              "      <td>linya ango</td>\n",
              "      <td>tumbi ango</td>\n",
              "      <td>jumli ango</td>\n",
              "    </tr>\n",
              "    <tr>\n",
              "      <th>2</th>\n",
              "      <td>3612503</td>\n",
              "      <td>mogam padu</td>\n",
              "      <td>minsa padu</td>\n",
              "      <td>rajum padu</td>\n",
              "    </tr>\n",
              "    <tr>\n",
              "      <th>3</th>\n",
              "      <td>3612504</td>\n",
              "      <td>minu bagra</td>\n",
              "      <td>pakter bagra</td>\n",
              "      <td>domin bagra</td>\n",
              "    </tr>\n",
              "    <tr>\n",
              "      <th>4</th>\n",
              "      <td>3612505</td>\n",
              "      <td>minyir ori</td>\n",
              "      <td>jirbom ori</td>\n",
              "      <td>kimen ori</td>\n",
              "    </tr>\n",
              "  </tbody>\n",
              "</table>\n",
              "</div>\n",
              "      <button class=\"colab-df-convert\" onclick=\"convertToInteractive('df-e6e2101f-a1f6-4301-88d5-feb945a5ac9e')\"\n",
              "              title=\"Convert this dataframe to an interactive table.\"\n",
              "              style=\"display:none;\">\n",
              "        \n",
              "  <svg xmlns=\"http://www.w3.org/2000/svg\" height=\"24px\"viewBox=\"0 0 24 24\"\n",
              "       width=\"24px\">\n",
              "    <path d=\"M0 0h24v24H0V0z\" fill=\"none\"/>\n",
              "    <path d=\"M18.56 5.44l.94 2.06.94-2.06 2.06-.94-2.06-.94-.94-2.06-.94 2.06-2.06.94zm-11 1L8.5 8.5l.94-2.06 2.06-.94-2.06-.94L8.5 2.5l-.94 2.06-2.06.94zm10 10l.94 2.06.94-2.06 2.06-.94-2.06-.94-.94-2.06-.94 2.06-2.06.94z\"/><path d=\"M17.41 7.96l-1.37-1.37c-.4-.4-.92-.59-1.43-.59-.52 0-1.04.2-1.43.59L10.3 9.45l-7.72 7.72c-.78.78-.78 2.05 0 2.83L4 21.41c.39.39.9.59 1.41.59.51 0 1.02-.2 1.41-.59l7.78-7.78 2.81-2.81c.8-.78.8-2.07 0-2.86zM5.41 20L4 18.59l7.72-7.72 1.47 1.35L5.41 20z\"/>\n",
              "  </svg>\n",
              "      </button>\n",
              "      \n",
              "  <style>\n",
              "    .colab-df-container {\n",
              "      display:flex;\n",
              "      flex-wrap:wrap;\n",
              "      gap: 12px;\n",
              "    }\n",
              "\n",
              "    .colab-df-convert {\n",
              "      background-color: #E8F0FE;\n",
              "      border: none;\n",
              "      border-radius: 50%;\n",
              "      cursor: pointer;\n",
              "      display: none;\n",
              "      fill: #1967D2;\n",
              "      height: 32px;\n",
              "      padding: 0 0 0 0;\n",
              "      width: 32px;\n",
              "    }\n",
              "\n",
              "    .colab-df-convert:hover {\n",
              "      background-color: #E2EBFA;\n",
              "      box-shadow: 0px 1px 2px rgba(60, 64, 67, 0.3), 0px 1px 3px 1px rgba(60, 64, 67, 0.15);\n",
              "      fill: #174EA6;\n",
              "    }\n",
              "\n",
              "    [theme=dark] .colab-df-convert {\n",
              "      background-color: #3B4455;\n",
              "      fill: #D2E3FC;\n",
              "    }\n",
              "\n",
              "    [theme=dark] .colab-df-convert:hover {\n",
              "      background-color: #434B5C;\n",
              "      box-shadow: 0px 1px 3px 1px rgba(0, 0, 0, 0.15);\n",
              "      filter: drop-shadow(0px 1px 2px rgba(0, 0, 0, 0.3));\n",
              "      fill: #FFFFFF;\n",
              "    }\n",
              "  </style>\n",
              "\n",
              "      <script>\n",
              "        const buttonEl =\n",
              "          document.querySelector('#df-e6e2101f-a1f6-4301-88d5-feb945a5ac9e button.colab-df-convert');\n",
              "        buttonEl.style.display =\n",
              "          google.colab.kernel.accessAllowed ? 'block' : 'none';\n",
              "\n",
              "        async function convertToInteractive(key) {\n",
              "          const element = document.querySelector('#df-e6e2101f-a1f6-4301-88d5-feb945a5ac9e');\n",
              "          const dataTable =\n",
              "            await google.colab.kernel.invokeFunction('convertToInteractive',\n",
              "                                                     [key], {});\n",
              "          if (!dataTable) return;\n",
              "\n",
              "          const docLinkHtml = 'Like what you see? Visit the ' +\n",
              "            '<a target=\"_blank\" href=https://colab.research.google.com/notebooks/data_table.ipynb>data table notebook</a>'\n",
              "            + ' to learn more about interactive tables.';\n",
              "          element.innerHTML = '';\n",
              "          dataTable['output_type'] = 'display_data';\n",
              "          await google.colab.output.renderOutput(dataTable, element);\n",
              "          const docLink = document.createElement('div');\n",
              "          docLink.innerHTML = docLinkHtml;\n",
              "          element.appendChild(docLink);\n",
              "        }\n",
              "      </script>\n",
              "    </div>\n",
              "  </div>\n",
              "  "
            ]
          },
          "metadata": {},
          "execution_count": 12
        }
      ]
    },
    {
      "cell_type": "code",
      "source": [
        "names[['mother', 'father']] = names.apply(first_name_extraction, axis=1, result_type='expand')"
      ],
      "metadata": {
        "id": "s-ZCdvlCzgjJ"
      },
      "execution_count": null,
      "outputs": []
    },
    {
      "cell_type": "code",
      "source": [
        "names.sample(10)"
      ],
      "metadata": {
        "colab": {
          "base_uri": "https://localhost:8080/",
          "height": 363
        },
        "id": "mzWsuyybzgfu",
        "outputId": "8145a3a9-a4d1-492f-90d9-bad973a54363"
      },
      "execution_count": null,
      "outputs": [
        {
          "output_type": "execute_result",
          "data": {
            "text/plain": [
              "        Roll No.             name            female                    male  \\\n",
              "13929    4668455            saket          bhargavi           vijay raghava   \n",
              "142896   9189935   shivangi gupta       radha gupta       vinod kumar gupta   \n",
              "39398    3614338  jokniya langkam     giram langkam           hallu langkam   \n",
              "108460   9149470     sanjeev rana             kamla               bhagirath   \n",
              "147178   9194219       ariba khan     naushaba khan         ishrat ali khan   \n",
              "82754    9122741     shipra singh      neelam singh                vb singh   \n",
              "125312   9168342   sharique afzal       asfia begam      syed afzal hussain   \n",
              "20712    4675239    pramitee saki       mangal saki              manoj saki   \n",
              "69786    3644766    rajesh tamang       bina gurung  krishna bahadur gurung   \n",
              "107697   9148707     vidhi bansal  meenakshi bansal           pankaj bansal   \n",
              "\n",
              "           mother     father  \n",
              "13929    bhargavi      vijay  \n",
              "142896      radha      vinod  \n",
              "39398       giram      hallu  \n",
              "108460      kamla  bhagirath  \n",
              "147178   naushaba     ishrat  \n",
              "82754      neelam         vb  \n",
              "125312      asfia       syed  \n",
              "20712      mangal      manoj  \n",
              "69786        bina    krishna  \n",
              "107697  meenakshi     pankaj  "
            ],
            "text/html": [
              "\n",
              "  <div id=\"df-d655389e-e5d4-47e9-86d0-a3926c382d07\">\n",
              "    <div class=\"colab-df-container\">\n",
              "      <div>\n",
              "<style scoped>\n",
              "    .dataframe tbody tr th:only-of-type {\n",
              "        vertical-align: middle;\n",
              "    }\n",
              "\n",
              "    .dataframe tbody tr th {\n",
              "        vertical-align: top;\n",
              "    }\n",
              "\n",
              "    .dataframe thead th {\n",
              "        text-align: right;\n",
              "    }\n",
              "</style>\n",
              "<table border=\"1\" class=\"dataframe\">\n",
              "  <thead>\n",
              "    <tr style=\"text-align: right;\">\n",
              "      <th></th>\n",
              "      <th>Roll No.</th>\n",
              "      <th>name</th>\n",
              "      <th>female</th>\n",
              "      <th>male</th>\n",
              "      <th>mother</th>\n",
              "      <th>father</th>\n",
              "    </tr>\n",
              "  </thead>\n",
              "  <tbody>\n",
              "    <tr>\n",
              "      <th>13929</th>\n",
              "      <td>4668455</td>\n",
              "      <td>saket</td>\n",
              "      <td>bhargavi</td>\n",
              "      <td>vijay raghava</td>\n",
              "      <td>bhargavi</td>\n",
              "      <td>vijay</td>\n",
              "    </tr>\n",
              "    <tr>\n",
              "      <th>142896</th>\n",
              "      <td>9189935</td>\n",
              "      <td>shivangi gupta</td>\n",
              "      <td>radha gupta</td>\n",
              "      <td>vinod kumar gupta</td>\n",
              "      <td>radha</td>\n",
              "      <td>vinod</td>\n",
              "    </tr>\n",
              "    <tr>\n",
              "      <th>39398</th>\n",
              "      <td>3614338</td>\n",
              "      <td>jokniya langkam</td>\n",
              "      <td>giram langkam</td>\n",
              "      <td>hallu langkam</td>\n",
              "      <td>giram</td>\n",
              "      <td>hallu</td>\n",
              "    </tr>\n",
              "    <tr>\n",
              "      <th>108460</th>\n",
              "      <td>9149470</td>\n",
              "      <td>sanjeev rana</td>\n",
              "      <td>kamla</td>\n",
              "      <td>bhagirath</td>\n",
              "      <td>kamla</td>\n",
              "      <td>bhagirath</td>\n",
              "    </tr>\n",
              "    <tr>\n",
              "      <th>147178</th>\n",
              "      <td>9194219</td>\n",
              "      <td>ariba khan</td>\n",
              "      <td>naushaba khan</td>\n",
              "      <td>ishrat ali khan</td>\n",
              "      <td>naushaba</td>\n",
              "      <td>ishrat</td>\n",
              "    </tr>\n",
              "    <tr>\n",
              "      <th>82754</th>\n",
              "      <td>9122741</td>\n",
              "      <td>shipra singh</td>\n",
              "      <td>neelam singh</td>\n",
              "      <td>vb singh</td>\n",
              "      <td>neelam</td>\n",
              "      <td>vb</td>\n",
              "    </tr>\n",
              "    <tr>\n",
              "      <th>125312</th>\n",
              "      <td>9168342</td>\n",
              "      <td>sharique afzal</td>\n",
              "      <td>asfia begam</td>\n",
              "      <td>syed afzal hussain</td>\n",
              "      <td>asfia</td>\n",
              "      <td>syed</td>\n",
              "    </tr>\n",
              "    <tr>\n",
              "      <th>20712</th>\n",
              "      <td>4675239</td>\n",
              "      <td>pramitee saki</td>\n",
              "      <td>mangal saki</td>\n",
              "      <td>manoj saki</td>\n",
              "      <td>mangal</td>\n",
              "      <td>manoj</td>\n",
              "    </tr>\n",
              "    <tr>\n",
              "      <th>69786</th>\n",
              "      <td>3644766</td>\n",
              "      <td>rajesh tamang</td>\n",
              "      <td>bina gurung</td>\n",
              "      <td>krishna bahadur gurung</td>\n",
              "      <td>bina</td>\n",
              "      <td>krishna</td>\n",
              "    </tr>\n",
              "    <tr>\n",
              "      <th>107697</th>\n",
              "      <td>9148707</td>\n",
              "      <td>vidhi bansal</td>\n",
              "      <td>meenakshi bansal</td>\n",
              "      <td>pankaj bansal</td>\n",
              "      <td>meenakshi</td>\n",
              "      <td>pankaj</td>\n",
              "    </tr>\n",
              "  </tbody>\n",
              "</table>\n",
              "</div>\n",
              "      <button class=\"colab-df-convert\" onclick=\"convertToInteractive('df-d655389e-e5d4-47e9-86d0-a3926c382d07')\"\n",
              "              title=\"Convert this dataframe to an interactive table.\"\n",
              "              style=\"display:none;\">\n",
              "        \n",
              "  <svg xmlns=\"http://www.w3.org/2000/svg\" height=\"24px\"viewBox=\"0 0 24 24\"\n",
              "       width=\"24px\">\n",
              "    <path d=\"M0 0h24v24H0V0z\" fill=\"none\"/>\n",
              "    <path d=\"M18.56 5.44l.94 2.06.94-2.06 2.06-.94-2.06-.94-.94-2.06-.94 2.06-2.06.94zm-11 1L8.5 8.5l.94-2.06 2.06-.94-2.06-.94L8.5 2.5l-.94 2.06-2.06.94zm10 10l.94 2.06.94-2.06 2.06-.94-2.06-.94-.94-2.06-.94 2.06-2.06.94z\"/><path d=\"M17.41 7.96l-1.37-1.37c-.4-.4-.92-.59-1.43-.59-.52 0-1.04.2-1.43.59L10.3 9.45l-7.72 7.72c-.78.78-.78 2.05 0 2.83L4 21.41c.39.39.9.59 1.41.59.51 0 1.02-.2 1.41-.59l7.78-7.78 2.81-2.81c.8-.78.8-2.07 0-2.86zM5.41 20L4 18.59l7.72-7.72 1.47 1.35L5.41 20z\"/>\n",
              "  </svg>\n",
              "      </button>\n",
              "      \n",
              "  <style>\n",
              "    .colab-df-container {\n",
              "      display:flex;\n",
              "      flex-wrap:wrap;\n",
              "      gap: 12px;\n",
              "    }\n",
              "\n",
              "    .colab-df-convert {\n",
              "      background-color: #E8F0FE;\n",
              "      border: none;\n",
              "      border-radius: 50%;\n",
              "      cursor: pointer;\n",
              "      display: none;\n",
              "      fill: #1967D2;\n",
              "      height: 32px;\n",
              "      padding: 0 0 0 0;\n",
              "      width: 32px;\n",
              "    }\n",
              "\n",
              "    .colab-df-convert:hover {\n",
              "      background-color: #E2EBFA;\n",
              "      box-shadow: 0px 1px 2px rgba(60, 64, 67, 0.3), 0px 1px 3px 1px rgba(60, 64, 67, 0.15);\n",
              "      fill: #174EA6;\n",
              "    }\n",
              "\n",
              "    [theme=dark] .colab-df-convert {\n",
              "      background-color: #3B4455;\n",
              "      fill: #D2E3FC;\n",
              "    }\n",
              "\n",
              "    [theme=dark] .colab-df-convert:hover {\n",
              "      background-color: #434B5C;\n",
              "      box-shadow: 0px 1px 3px 1px rgba(0, 0, 0, 0.15);\n",
              "      filter: drop-shadow(0px 1px 2px rgba(0, 0, 0, 0.3));\n",
              "      fill: #FFFFFF;\n",
              "    }\n",
              "  </style>\n",
              "\n",
              "      <script>\n",
              "        const buttonEl =\n",
              "          document.querySelector('#df-d655389e-e5d4-47e9-86d0-a3926c382d07 button.colab-df-convert');\n",
              "        buttonEl.style.display =\n",
              "          google.colab.kernel.accessAllowed ? 'block' : 'none';\n",
              "\n",
              "        async function convertToInteractive(key) {\n",
              "          const element = document.querySelector('#df-d655389e-e5d4-47e9-86d0-a3926c382d07');\n",
              "          const dataTable =\n",
              "            await google.colab.kernel.invokeFunction('convertToInteractive',\n",
              "                                                     [key], {});\n",
              "          if (!dataTable) return;\n",
              "\n",
              "          const docLinkHtml = 'Like what you see? Visit the ' +\n",
              "            '<a target=\"_blank\" href=https://colab.research.google.com/notebooks/data_table.ipynb>data table notebook</a>'\n",
              "            + ' to learn more about interactive tables.';\n",
              "          element.innerHTML = '';\n",
              "          dataTable['output_type'] = 'display_data';\n",
              "          await google.colab.output.renderOutput(dataTable, element);\n",
              "          const docLink = document.createElement('div');\n",
              "          docLink.innerHTML = docLinkHtml;\n",
              "          element.appendChild(docLink);\n",
              "        }\n",
              "      </script>\n",
              "    </div>\n",
              "  </div>\n",
              "  "
            ]
          },
          "metadata": {},
          "execution_count": 16
        }
      ]
    },
    {
      "cell_type": "code",
      "source": [
        "female_names = names[['Roll No.', 'mother']]\n",
        "male_names = names[['Roll No.', 'father']]"
      ],
      "metadata": {
        "id": "Xpe5nBmYzgcz"
      },
      "execution_count": null,
      "outputs": []
    },
    {
      "cell_type": "code",
      "source": [
        "female_names['Gender'] = 'female'\n",
        "male_names['Gender'] = 'male'"
      ],
      "metadata": {
        "colab": {
          "base_uri": "https://localhost:8080/"
        },
        "id": "Cf4-3q_JElMD",
        "outputId": "91009d03-d2c3-4edc-c73f-a72048a1d87c"
      },
      "execution_count": null,
      "outputs": [
        {
          "output_type": "stream",
          "name": "stderr",
          "text": [
            "<ipython-input-29-aef84a585653>:1: SettingWithCopyWarning: \n",
            "A value is trying to be set on a copy of a slice from a DataFrame.\n",
            "Try using .loc[row_indexer,col_indexer] = value instead\n",
            "\n",
            "See the caveats in the documentation: https://pandas.pydata.org/pandas-docs/stable/user_guide/indexing.html#returning-a-view-versus-a-copy\n",
            "  female_names['Gender'] = 'female'\n",
            "<ipython-input-29-aef84a585653>:2: SettingWithCopyWarning: \n",
            "A value is trying to be set on a copy of a slice from a DataFrame.\n",
            "Try using .loc[row_indexer,col_indexer] = value instead\n",
            "\n",
            "See the caveats in the documentation: https://pandas.pydata.org/pandas-docs/stable/user_guide/indexing.html#returning-a-view-versus-a-copy\n",
            "  male_names['Gender'] = 'male'\n"
          ]
        }
      ]
    },
    {
      "cell_type": "code",
      "source": [
        "female_names.drop('Roll No.', inplace = True, axis = 1)\n",
        "male_names.drop('Roll No.', inplace = True, axis = 1)"
      ],
      "metadata": {
        "colab": {
          "base_uri": "https://localhost:8080/"
        },
        "id": "MoS2C6VyFdO1",
        "outputId": "24c45eab-2d63-4629-83de-ad895139d16a"
      },
      "execution_count": null,
      "outputs": [
        {
          "output_type": "stream",
          "name": "stderr",
          "text": [
            "<ipython-input-30-49dc55459b3a>:1: SettingWithCopyWarning: \n",
            "A value is trying to be set on a copy of a slice from a DataFrame\n",
            "\n",
            "See the caveats in the documentation: https://pandas.pydata.org/pandas-docs/stable/user_guide/indexing.html#returning-a-view-versus-a-copy\n",
            "  female_names.drop('Roll No.', inplace = True, axis = 1)\n",
            "<ipython-input-30-49dc55459b3a>:2: SettingWithCopyWarning: \n",
            "A value is trying to be set on a copy of a slice from a DataFrame\n",
            "\n",
            "See the caveats in the documentation: https://pandas.pydata.org/pandas-docs/stable/user_guide/indexing.html#returning-a-view-versus-a-copy\n",
            "  male_names.drop('Roll No.', inplace = True, axis = 1)\n"
          ]
        }
      ]
    },
    {
      "cell_type": "code",
      "source": [
        "female_names.rename(columns = {\"mother\":\"Name\"}, inplace = True)\n",
        "male_names.rename(columns = {\"father\":\"Name\"}, inplace = True)"
      ],
      "metadata": {
        "colab": {
          "base_uri": "https://localhost:8080/"
        },
        "id": "hNksgQbmFm5c",
        "outputId": "a755c1fe-4161-418d-ee7b-a839f9466171"
      },
      "execution_count": null,
      "outputs": [
        {
          "output_type": "stream",
          "name": "stderr",
          "text": [
            "<ipython-input-31-f4d083c2667a>:1: SettingWithCopyWarning: \n",
            "A value is trying to be set on a copy of a slice from a DataFrame\n",
            "\n",
            "See the caveats in the documentation: https://pandas.pydata.org/pandas-docs/stable/user_guide/indexing.html#returning-a-view-versus-a-copy\n",
            "  female_names.rename(columns = {\"mother\":\"Name\"}, inplace = True)\n",
            "<ipython-input-31-f4d083c2667a>:2: SettingWithCopyWarning: \n",
            "A value is trying to be set on a copy of a slice from a DataFrame\n",
            "\n",
            "See the caveats in the documentation: https://pandas.pydata.org/pandas-docs/stable/user_guide/indexing.html#returning-a-view-versus-a-copy\n",
            "  male_names.rename(columns = {\"father\":\"Name\"}, inplace = True)\n"
          ]
        }
      ]
    },
    {
      "cell_type": "code",
      "source": [
        "male_names.head()"
      ],
      "metadata": {
        "colab": {
          "base_uri": "https://localhost:8080/",
          "height": 206
        },
        "id": "48WNjCOZF69V",
        "outputId": "34e7843b-047f-4281-c1ad-4731eb7543e4"
      },
      "execution_count": null,
      "outputs": [
        {
          "output_type": "execute_result",
          "data": {
            "text/plain": [
              "    Name Gender\n",
              "0   doli   male\n",
              "1  jumli   male\n",
              "2  rajum   male\n",
              "3  domin   male\n",
              "4  kimen   male"
            ],
            "text/html": [
              "\n",
              "  <div id=\"df-e376993a-91fc-425c-b13d-ce374ddd9be2\">\n",
              "    <div class=\"colab-df-container\">\n",
              "      <div>\n",
              "<style scoped>\n",
              "    .dataframe tbody tr th:only-of-type {\n",
              "        vertical-align: middle;\n",
              "    }\n",
              "\n",
              "    .dataframe tbody tr th {\n",
              "        vertical-align: top;\n",
              "    }\n",
              "\n",
              "    .dataframe thead th {\n",
              "        text-align: right;\n",
              "    }\n",
              "</style>\n",
              "<table border=\"1\" class=\"dataframe\">\n",
              "  <thead>\n",
              "    <tr style=\"text-align: right;\">\n",
              "      <th></th>\n",
              "      <th>Name</th>\n",
              "      <th>Gender</th>\n",
              "    </tr>\n",
              "  </thead>\n",
              "  <tbody>\n",
              "    <tr>\n",
              "      <th>0</th>\n",
              "      <td>doli</td>\n",
              "      <td>male</td>\n",
              "    </tr>\n",
              "    <tr>\n",
              "      <th>1</th>\n",
              "      <td>jumli</td>\n",
              "      <td>male</td>\n",
              "    </tr>\n",
              "    <tr>\n",
              "      <th>2</th>\n",
              "      <td>rajum</td>\n",
              "      <td>male</td>\n",
              "    </tr>\n",
              "    <tr>\n",
              "      <th>3</th>\n",
              "      <td>domin</td>\n",
              "      <td>male</td>\n",
              "    </tr>\n",
              "    <tr>\n",
              "      <th>4</th>\n",
              "      <td>kimen</td>\n",
              "      <td>male</td>\n",
              "    </tr>\n",
              "  </tbody>\n",
              "</table>\n",
              "</div>\n",
              "      <button class=\"colab-df-convert\" onclick=\"convertToInteractive('df-e376993a-91fc-425c-b13d-ce374ddd9be2')\"\n",
              "              title=\"Convert this dataframe to an interactive table.\"\n",
              "              style=\"display:none;\">\n",
              "        \n",
              "  <svg xmlns=\"http://www.w3.org/2000/svg\" height=\"24px\"viewBox=\"0 0 24 24\"\n",
              "       width=\"24px\">\n",
              "    <path d=\"M0 0h24v24H0V0z\" fill=\"none\"/>\n",
              "    <path d=\"M18.56 5.44l.94 2.06.94-2.06 2.06-.94-2.06-.94-.94-2.06-.94 2.06-2.06.94zm-11 1L8.5 8.5l.94-2.06 2.06-.94-2.06-.94L8.5 2.5l-.94 2.06-2.06.94zm10 10l.94 2.06.94-2.06 2.06-.94-2.06-.94-.94-2.06-.94 2.06-2.06.94z\"/><path d=\"M17.41 7.96l-1.37-1.37c-.4-.4-.92-.59-1.43-.59-.52 0-1.04.2-1.43.59L10.3 9.45l-7.72 7.72c-.78.78-.78 2.05 0 2.83L4 21.41c.39.39.9.59 1.41.59.51 0 1.02-.2 1.41-.59l7.78-7.78 2.81-2.81c.8-.78.8-2.07 0-2.86zM5.41 20L4 18.59l7.72-7.72 1.47 1.35L5.41 20z\"/>\n",
              "  </svg>\n",
              "      </button>\n",
              "      \n",
              "  <style>\n",
              "    .colab-df-container {\n",
              "      display:flex;\n",
              "      flex-wrap:wrap;\n",
              "      gap: 12px;\n",
              "    }\n",
              "\n",
              "    .colab-df-convert {\n",
              "      background-color: #E8F0FE;\n",
              "      border: none;\n",
              "      border-radius: 50%;\n",
              "      cursor: pointer;\n",
              "      display: none;\n",
              "      fill: #1967D2;\n",
              "      height: 32px;\n",
              "      padding: 0 0 0 0;\n",
              "      width: 32px;\n",
              "    }\n",
              "\n",
              "    .colab-df-convert:hover {\n",
              "      background-color: #E2EBFA;\n",
              "      box-shadow: 0px 1px 2px rgba(60, 64, 67, 0.3), 0px 1px 3px 1px rgba(60, 64, 67, 0.15);\n",
              "      fill: #174EA6;\n",
              "    }\n",
              "\n",
              "    [theme=dark] .colab-df-convert {\n",
              "      background-color: #3B4455;\n",
              "      fill: #D2E3FC;\n",
              "    }\n",
              "\n",
              "    [theme=dark] .colab-df-convert:hover {\n",
              "      background-color: #434B5C;\n",
              "      box-shadow: 0px 1px 3px 1px rgba(0, 0, 0, 0.15);\n",
              "      filter: drop-shadow(0px 1px 2px rgba(0, 0, 0, 0.3));\n",
              "      fill: #FFFFFF;\n",
              "    }\n",
              "  </style>\n",
              "\n",
              "      <script>\n",
              "        const buttonEl =\n",
              "          document.querySelector('#df-e376993a-91fc-425c-b13d-ce374ddd9be2 button.colab-df-convert');\n",
              "        buttonEl.style.display =\n",
              "          google.colab.kernel.accessAllowed ? 'block' : 'none';\n",
              "\n",
              "        async function convertToInteractive(key) {\n",
              "          const element = document.querySelector('#df-e376993a-91fc-425c-b13d-ce374ddd9be2');\n",
              "          const dataTable =\n",
              "            await google.colab.kernel.invokeFunction('convertToInteractive',\n",
              "                                                     [key], {});\n",
              "          if (!dataTable) return;\n",
              "\n",
              "          const docLinkHtml = 'Like what you see? Visit the ' +\n",
              "            '<a target=\"_blank\" href=https://colab.research.google.com/notebooks/data_table.ipynb>data table notebook</a>'\n",
              "            + ' to learn more about interactive tables.';\n",
              "          element.innerHTML = '';\n",
              "          dataTable['output_type'] = 'display_data';\n",
              "          await google.colab.output.renderOutput(dataTable, element);\n",
              "          const docLink = document.createElement('div');\n",
              "          docLink.innerHTML = docLinkHtml;\n",
              "          element.appendChild(docLink);\n",
              "        }\n",
              "      </script>\n",
              "    </div>\n",
              "  </div>\n",
              "  "
            ]
          },
          "metadata": {},
          "execution_count": 32
        }
      ]
    },
    {
      "cell_type": "code",
      "source": [
        "og_names = pd.read_csv(filepath + \"cleaned_gender_training_data.csv\")"
      ],
      "metadata": {
        "id": "9dEDfVw0F_lA"
      },
      "execution_count": null,
      "outputs": []
    },
    {
      "cell_type": "code",
      "source": [
        "og_names.head()"
      ],
      "metadata": {
        "colab": {
          "base_uri": "https://localhost:8080/",
          "height": 206
        },
        "id": "ojO1tZU2GPvm",
        "outputId": "3739a417-1df1-4e53-c508-56590818230c"
      },
      "execution_count": null,
      "outputs": [
        {
          "output_type": "execute_result",
          "data": {
            "text/plain": [
              "        Name  Gender\n",
              "0     aaaqil    male\n",
              "1  aaarabisk    male\n",
              "2     aaarti  female\n",
              "3      aaban    male\n",
              "4   aabarana  female"
            ],
            "text/html": [
              "\n",
              "  <div id=\"df-2bf63a98-8500-4815-8927-a471cf9e1696\">\n",
              "    <div class=\"colab-df-container\">\n",
              "      <div>\n",
              "<style scoped>\n",
              "    .dataframe tbody tr th:only-of-type {\n",
              "        vertical-align: middle;\n",
              "    }\n",
              "\n",
              "    .dataframe tbody tr th {\n",
              "        vertical-align: top;\n",
              "    }\n",
              "\n",
              "    .dataframe thead th {\n",
              "        text-align: right;\n",
              "    }\n",
              "</style>\n",
              "<table border=\"1\" class=\"dataframe\">\n",
              "  <thead>\n",
              "    <tr style=\"text-align: right;\">\n",
              "      <th></th>\n",
              "      <th>Name</th>\n",
              "      <th>Gender</th>\n",
              "    </tr>\n",
              "  </thead>\n",
              "  <tbody>\n",
              "    <tr>\n",
              "      <th>0</th>\n",
              "      <td>aaaqil</td>\n",
              "      <td>male</td>\n",
              "    </tr>\n",
              "    <tr>\n",
              "      <th>1</th>\n",
              "      <td>aaarabisk</td>\n",
              "      <td>male</td>\n",
              "    </tr>\n",
              "    <tr>\n",
              "      <th>2</th>\n",
              "      <td>aaarti</td>\n",
              "      <td>female</td>\n",
              "    </tr>\n",
              "    <tr>\n",
              "      <th>3</th>\n",
              "      <td>aaban</td>\n",
              "      <td>male</td>\n",
              "    </tr>\n",
              "    <tr>\n",
              "      <th>4</th>\n",
              "      <td>aabarana</td>\n",
              "      <td>female</td>\n",
              "    </tr>\n",
              "  </tbody>\n",
              "</table>\n",
              "</div>\n",
              "      <button class=\"colab-df-convert\" onclick=\"convertToInteractive('df-2bf63a98-8500-4815-8927-a471cf9e1696')\"\n",
              "              title=\"Convert this dataframe to an interactive table.\"\n",
              "              style=\"display:none;\">\n",
              "        \n",
              "  <svg xmlns=\"http://www.w3.org/2000/svg\" height=\"24px\"viewBox=\"0 0 24 24\"\n",
              "       width=\"24px\">\n",
              "    <path d=\"M0 0h24v24H0V0z\" fill=\"none\"/>\n",
              "    <path d=\"M18.56 5.44l.94 2.06.94-2.06 2.06-.94-2.06-.94-.94-2.06-.94 2.06-2.06.94zm-11 1L8.5 8.5l.94-2.06 2.06-.94-2.06-.94L8.5 2.5l-.94 2.06-2.06.94zm10 10l.94 2.06.94-2.06 2.06-.94-2.06-.94-.94-2.06-.94 2.06-2.06.94z\"/><path d=\"M17.41 7.96l-1.37-1.37c-.4-.4-.92-.59-1.43-.59-.52 0-1.04.2-1.43.59L10.3 9.45l-7.72 7.72c-.78.78-.78 2.05 0 2.83L4 21.41c.39.39.9.59 1.41.59.51 0 1.02-.2 1.41-.59l7.78-7.78 2.81-2.81c.8-.78.8-2.07 0-2.86zM5.41 20L4 18.59l7.72-7.72 1.47 1.35L5.41 20z\"/>\n",
              "  </svg>\n",
              "      </button>\n",
              "      \n",
              "  <style>\n",
              "    .colab-df-container {\n",
              "      display:flex;\n",
              "      flex-wrap:wrap;\n",
              "      gap: 12px;\n",
              "    }\n",
              "\n",
              "    .colab-df-convert {\n",
              "      background-color: #E8F0FE;\n",
              "      border: none;\n",
              "      border-radius: 50%;\n",
              "      cursor: pointer;\n",
              "      display: none;\n",
              "      fill: #1967D2;\n",
              "      height: 32px;\n",
              "      padding: 0 0 0 0;\n",
              "      width: 32px;\n",
              "    }\n",
              "\n",
              "    .colab-df-convert:hover {\n",
              "      background-color: #E2EBFA;\n",
              "      box-shadow: 0px 1px 2px rgba(60, 64, 67, 0.3), 0px 1px 3px 1px rgba(60, 64, 67, 0.15);\n",
              "      fill: #174EA6;\n",
              "    }\n",
              "\n",
              "    [theme=dark] .colab-df-convert {\n",
              "      background-color: #3B4455;\n",
              "      fill: #D2E3FC;\n",
              "    }\n",
              "\n",
              "    [theme=dark] .colab-df-convert:hover {\n",
              "      background-color: #434B5C;\n",
              "      box-shadow: 0px 1px 3px 1px rgba(0, 0, 0, 0.15);\n",
              "      filter: drop-shadow(0px 1px 2px rgba(0, 0, 0, 0.3));\n",
              "      fill: #FFFFFF;\n",
              "    }\n",
              "  </style>\n",
              "\n",
              "      <script>\n",
              "        const buttonEl =\n",
              "          document.querySelector('#df-2bf63a98-8500-4815-8927-a471cf9e1696 button.colab-df-convert');\n",
              "        buttonEl.style.display =\n",
              "          google.colab.kernel.accessAllowed ? 'block' : 'none';\n",
              "\n",
              "        async function convertToInteractive(key) {\n",
              "          const element = document.querySelector('#df-2bf63a98-8500-4815-8927-a471cf9e1696');\n",
              "          const dataTable =\n",
              "            await google.colab.kernel.invokeFunction('convertToInteractive',\n",
              "                                                     [key], {});\n",
              "          if (!dataTable) return;\n",
              "\n",
              "          const docLinkHtml = 'Like what you see? Visit the ' +\n",
              "            '<a target=\"_blank\" href=https://colab.research.google.com/notebooks/data_table.ipynb>data table notebook</a>'\n",
              "            + ' to learn more about interactive tables.';\n",
              "          element.innerHTML = '';\n",
              "          dataTable['output_type'] = 'display_data';\n",
              "          await google.colab.output.renderOutput(dataTable, element);\n",
              "          const docLink = document.createElement('div');\n",
              "          docLink.innerHTML = docLinkHtml;\n",
              "          element.appendChild(docLink);\n",
              "        }\n",
              "      </script>\n",
              "    </div>\n",
              "  </div>\n",
              "  "
            ]
          },
          "metadata": {},
          "execution_count": 34
        }
      ]
    },
    {
      "cell_type": "code",
      "source": [
        "gender_df = pd.concat([female_names, male_names, og_names])"
      ],
      "metadata": {
        "id": "G5At6u_lGSGM"
      },
      "execution_count": null,
      "outputs": []
    },
    {
      "cell_type": "code",
      "source": [
        "gender_df.head()"
      ],
      "metadata": {
        "colab": {
          "base_uri": "https://localhost:8080/",
          "height": 206
        },
        "id": "amMSy_5iGnCT",
        "outputId": "1a27512b-e7a6-44fe-dcf6-3a61b9db5f8c"
      },
      "execution_count": null,
      "outputs": [
        {
          "output_type": "execute_result",
          "data": {
            "text/plain": [
              "     Name  Gender\n",
              "0    dabi  female\n",
              "1   tumbi  female\n",
              "2   minsa  female\n",
              "3  pakter  female\n",
              "4  jirbom  female"
            ],
            "text/html": [
              "\n",
              "  <div id=\"df-a3b623f7-0dcf-4d6f-aa52-1a09678a3be0\">\n",
              "    <div class=\"colab-df-container\">\n",
              "      <div>\n",
              "<style scoped>\n",
              "    .dataframe tbody tr th:only-of-type {\n",
              "        vertical-align: middle;\n",
              "    }\n",
              "\n",
              "    .dataframe tbody tr th {\n",
              "        vertical-align: top;\n",
              "    }\n",
              "\n",
              "    .dataframe thead th {\n",
              "        text-align: right;\n",
              "    }\n",
              "</style>\n",
              "<table border=\"1\" class=\"dataframe\">\n",
              "  <thead>\n",
              "    <tr style=\"text-align: right;\">\n",
              "      <th></th>\n",
              "      <th>Name</th>\n",
              "      <th>Gender</th>\n",
              "    </tr>\n",
              "  </thead>\n",
              "  <tbody>\n",
              "    <tr>\n",
              "      <th>0</th>\n",
              "      <td>dabi</td>\n",
              "      <td>female</td>\n",
              "    </tr>\n",
              "    <tr>\n",
              "      <th>1</th>\n",
              "      <td>tumbi</td>\n",
              "      <td>female</td>\n",
              "    </tr>\n",
              "    <tr>\n",
              "      <th>2</th>\n",
              "      <td>minsa</td>\n",
              "      <td>female</td>\n",
              "    </tr>\n",
              "    <tr>\n",
              "      <th>3</th>\n",
              "      <td>pakter</td>\n",
              "      <td>female</td>\n",
              "    </tr>\n",
              "    <tr>\n",
              "      <th>4</th>\n",
              "      <td>jirbom</td>\n",
              "      <td>female</td>\n",
              "    </tr>\n",
              "  </tbody>\n",
              "</table>\n",
              "</div>\n",
              "      <button class=\"colab-df-convert\" onclick=\"convertToInteractive('df-a3b623f7-0dcf-4d6f-aa52-1a09678a3be0')\"\n",
              "              title=\"Convert this dataframe to an interactive table.\"\n",
              "              style=\"display:none;\">\n",
              "        \n",
              "  <svg xmlns=\"http://www.w3.org/2000/svg\" height=\"24px\"viewBox=\"0 0 24 24\"\n",
              "       width=\"24px\">\n",
              "    <path d=\"M0 0h24v24H0V0z\" fill=\"none\"/>\n",
              "    <path d=\"M18.56 5.44l.94 2.06.94-2.06 2.06-.94-2.06-.94-.94-2.06-.94 2.06-2.06.94zm-11 1L8.5 8.5l.94-2.06 2.06-.94-2.06-.94L8.5 2.5l-.94 2.06-2.06.94zm10 10l.94 2.06.94-2.06 2.06-.94-2.06-.94-.94-2.06-.94 2.06-2.06.94z\"/><path d=\"M17.41 7.96l-1.37-1.37c-.4-.4-.92-.59-1.43-.59-.52 0-1.04.2-1.43.59L10.3 9.45l-7.72 7.72c-.78.78-.78 2.05 0 2.83L4 21.41c.39.39.9.59 1.41.59.51 0 1.02-.2 1.41-.59l7.78-7.78 2.81-2.81c.8-.78.8-2.07 0-2.86zM5.41 20L4 18.59l7.72-7.72 1.47 1.35L5.41 20z\"/>\n",
              "  </svg>\n",
              "      </button>\n",
              "      \n",
              "  <style>\n",
              "    .colab-df-container {\n",
              "      display:flex;\n",
              "      flex-wrap:wrap;\n",
              "      gap: 12px;\n",
              "    }\n",
              "\n",
              "    .colab-df-convert {\n",
              "      background-color: #E8F0FE;\n",
              "      border: none;\n",
              "      border-radius: 50%;\n",
              "      cursor: pointer;\n",
              "      display: none;\n",
              "      fill: #1967D2;\n",
              "      height: 32px;\n",
              "      padding: 0 0 0 0;\n",
              "      width: 32px;\n",
              "    }\n",
              "\n",
              "    .colab-df-convert:hover {\n",
              "      background-color: #E2EBFA;\n",
              "      box-shadow: 0px 1px 2px rgba(60, 64, 67, 0.3), 0px 1px 3px 1px rgba(60, 64, 67, 0.15);\n",
              "      fill: #174EA6;\n",
              "    }\n",
              "\n",
              "    [theme=dark] .colab-df-convert {\n",
              "      background-color: #3B4455;\n",
              "      fill: #D2E3FC;\n",
              "    }\n",
              "\n",
              "    [theme=dark] .colab-df-convert:hover {\n",
              "      background-color: #434B5C;\n",
              "      box-shadow: 0px 1px 3px 1px rgba(0, 0, 0, 0.15);\n",
              "      filter: drop-shadow(0px 1px 2px rgba(0, 0, 0, 0.3));\n",
              "      fill: #FFFFFF;\n",
              "    }\n",
              "  </style>\n",
              "\n",
              "      <script>\n",
              "        const buttonEl =\n",
              "          document.querySelector('#df-a3b623f7-0dcf-4d6f-aa52-1a09678a3be0 button.colab-df-convert');\n",
              "        buttonEl.style.display =\n",
              "          google.colab.kernel.accessAllowed ? 'block' : 'none';\n",
              "\n",
              "        async function convertToInteractive(key) {\n",
              "          const element = document.querySelector('#df-a3b623f7-0dcf-4d6f-aa52-1a09678a3be0');\n",
              "          const dataTable =\n",
              "            await google.colab.kernel.invokeFunction('convertToInteractive',\n",
              "                                                     [key], {});\n",
              "          if (!dataTable) return;\n",
              "\n",
              "          const docLinkHtml = 'Like what you see? Visit the ' +\n",
              "            '<a target=\"_blank\" href=https://colab.research.google.com/notebooks/data_table.ipynb>data table notebook</a>'\n",
              "            + ' to learn more about interactive tables.';\n",
              "          element.innerHTML = '';\n",
              "          dataTable['output_type'] = 'display_data';\n",
              "          await google.colab.output.renderOutput(dataTable, element);\n",
              "          const docLink = document.createElement('div');\n",
              "          docLink.innerHTML = docLinkHtml;\n",
              "          element.appendChild(docLink);\n",
              "        }\n",
              "      </script>\n",
              "    </div>\n",
              "  </div>\n",
              "  "
            ]
          },
          "metadata": {},
          "execution_count": 46
        }
      ]
    },
    {
      "cell_type": "code",
      "source": [
        "gender_df.shape[0]"
      ],
      "metadata": {
        "colab": {
          "base_uri": "https://localhost:8080/"
        },
        "id": "HE52J1KDG60U",
        "outputId": "18db6184-fa9a-497b-c366-7a03a7307a14"
      },
      "execution_count": null,
      "outputs": [
        {
          "output_type": "execute_result",
          "data": {
            "text/plain": [
              "542645"
            ]
          },
          "metadata": {},
          "execution_count": 47
        }
      ]
    },
    {
      "cell_type": "code",
      "source": [
        "gender_df = gender_df[gender_df['Name'].str.len() > 3]"
      ],
      "metadata": {
        "id": "OtopihvgG98E"
      },
      "execution_count": null,
      "outputs": []
    },
    {
      "cell_type": "code",
      "source": [
        "gender_df.shape[0]"
      ],
      "metadata": {
        "colab": {
          "base_uri": "https://localhost:8080/"
        },
        "id": "DVCxq_i1HRWw",
        "outputId": "31791774-8fdc-49a7-86f6-10f4cf085fd1"
      },
      "execution_count": null,
      "outputs": [
        {
          "output_type": "execute_result",
          "data": {
            "text/plain": [
              "508359"
            ]
          },
          "metadata": {},
          "execution_count": 49
        }
      ]
    },
    {
      "cell_type": "code",
      "source": [
        "gender_df.to_csv(filepath + \"gender_trainig040723.csv\", index = False)"
      ],
      "metadata": {
        "id": "0fpq8TZ9ZFw2"
      },
      "execution_count": null,
      "outputs": []
    }
  ]
}