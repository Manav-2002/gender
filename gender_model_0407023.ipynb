{
  "nbformat": 4,
  "nbformat_minor": 0,
  "metadata": {
    "colab": {
      "provenance": [],
      "gpuType": "T4"
    },
    "kernelspec": {
      "name": "python3",
      "display_name": "Python 3"
    },
    "language_info": {
      "name": "python"
    },
    "accelerator": "GPU"
  },
  "cells": [
    {
      "cell_type": "code",
      "execution_count": null,
      "metadata": {
        "colab": {
          "base_uri": "https://localhost:8080/"
        },
        "id": "lT63t4lILmmt",
        "outputId": "2ac27755-2056-4177-de48-65745d63c3e2"
      },
      "outputs": [
        {
          "output_type": "stream",
          "name": "stdout",
          "text": [
            "Mounted at /content/drive\n"
          ]
        }
      ],
      "source": [
        "from google.colab import drive\n",
        "drive.mount('/content/drive', force_remount = True)"
      ]
    },
    {
      "cell_type": "code",
      "source": [
        "datapath = \"/content/drive/MyDrive/Colab Notebooks/DATASETS/NAMES/\"\n",
        "modelpath = \"/content/drive/MyDrive/Colab Notebooks/MODELS/GENDER/\""
      ],
      "metadata": {
        "id": "VSGPy0dRL3i0"
      },
      "execution_count": null,
      "outputs": []
    },
    {
      "cell_type": "code",
      "source": [
        "import nltk\n",
        "import joblib\n",
        "\n",
        "import numpy as np\n",
        "import pandas as pd\n",
        "\n",
        "from tensorflow.keras.models import Sequential\n",
        "from sklearn.model_selection import train_test_split\n",
        "from tensorflow.keras.callbacks import EarlyStopping\n",
        "from tensorflow.keras.preprocessing.text import Tokenizer\n",
        "from sklearn.feature_extraction.text import TfidfVectorizer\n",
        "from tensorflow.keras.preprocessing.sequence import pad_sequences\n",
        "from tensorflow.keras.layers import Embedding, LSTM, Bidirectional, Dense\n",
        "\n",
        "import warnings\n",
        "\n",
        "warnings.filterwarnings('ignore')\n",
        "\n"
      ],
      "metadata": {
        "id": "HBo0n9pILzRa"
      },
      "execution_count": null,
      "outputs": []
    },
    {
      "cell_type": "code",
      "source": [
        "df = pd.read_csv(datapath + 'gender_training040723.csv')\n",
        "print(df.shape[0])\n",
        "df.isna().sum()"
      ],
      "metadata": {
        "colab": {
          "base_uri": "https://localhost:8080/"
        },
        "id": "ON1gutVCMuPy",
        "outputId": "c26ffec9-d701-422b-f0bd-6af211e18e8a"
      },
      "execution_count": null,
      "outputs": [
        {
          "output_type": "stream",
          "name": "stdout",
          "text": [
            "508359\n"
          ]
        },
        {
          "output_type": "execute_result",
          "data": {
            "text/plain": [
              "Name      0\n",
              "Gender    0\n",
              "dtype: int64"
            ]
          },
          "metadata": {},
          "execution_count": 3
        }
      ]
    },
    {
      "cell_type": "code",
      "source": [
        "df['Name'] = df['Name'].str.lower()\n",
        "df['Name'] = df['Name'].str.replace('[^a-zA-Z]', '')"
      ],
      "metadata": {
        "id": "N1jlDvs7Qgwy"
      },
      "execution_count": null,
      "outputs": []
    },
    {
      "cell_type": "code",
      "source": [
        "df.isna().sum()"
      ],
      "metadata": {
        "colab": {
          "base_uri": "https://localhost:8080/"
        },
        "id": "P8tcoYveRbiq",
        "outputId": "1c9fe04a-5c0e-469b-dd33-e83c1f3d93fc"
      },
      "execution_count": null,
      "outputs": [
        {
          "output_type": "execute_result",
          "data": {
            "text/plain": [
              "Name      0\n",
              "Gender    0\n",
              "dtype: int64"
            ]
          },
          "metadata": {},
          "execution_count": 5
        }
      ]
    },
    {
      "cell_type": "code",
      "source": [
        "df = df.sample(frac = 1)\n",
        "df.head(6)"
      ],
      "metadata": {
        "colab": {
          "base_uri": "https://localhost:8080/",
          "height": 238
        },
        "id": "UcD48jTuO7-v",
        "outputId": "ec917239-b9fd-496e-8ff4-162bdb24aed2"
      },
      "execution_count": null,
      "outputs": [
        {
          "output_type": "execute_result",
          "data": {
            "text/plain": [
              "                Name  Gender\n",
              "427986        hilaal    male\n",
              "252681         pulen    male\n",
              "68297           mini  female\n",
              "433587         jaysh    male\n",
              "89012         indira  female\n",
              "504575  durgashankar    male"
            ],
            "text/html": [
              "\n",
              "  <div id=\"df-43c8b6b7-391e-49c0-8038-ebe04ba05b48\">\n",
              "    <div class=\"colab-df-container\">\n",
              "      <div>\n",
              "<style scoped>\n",
              "    .dataframe tbody tr th:only-of-type {\n",
              "        vertical-align: middle;\n",
              "    }\n",
              "\n",
              "    .dataframe tbody tr th {\n",
              "        vertical-align: top;\n",
              "    }\n",
              "\n",
              "    .dataframe thead th {\n",
              "        text-align: right;\n",
              "    }\n",
              "</style>\n",
              "<table border=\"1\" class=\"dataframe\">\n",
              "  <thead>\n",
              "    <tr style=\"text-align: right;\">\n",
              "      <th></th>\n",
              "      <th>Name</th>\n",
              "      <th>Gender</th>\n",
              "    </tr>\n",
              "  </thead>\n",
              "  <tbody>\n",
              "    <tr>\n",
              "      <th>427986</th>\n",
              "      <td>hilaal</td>\n",
              "      <td>male</td>\n",
              "    </tr>\n",
              "    <tr>\n",
              "      <th>252681</th>\n",
              "      <td>pulen</td>\n",
              "      <td>male</td>\n",
              "    </tr>\n",
              "    <tr>\n",
              "      <th>68297</th>\n",
              "      <td>mini</td>\n",
              "      <td>female</td>\n",
              "    </tr>\n",
              "    <tr>\n",
              "      <th>433587</th>\n",
              "      <td>jaysh</td>\n",
              "      <td>male</td>\n",
              "    </tr>\n",
              "    <tr>\n",
              "      <th>89012</th>\n",
              "      <td>indira</td>\n",
              "      <td>female</td>\n",
              "    </tr>\n",
              "    <tr>\n",
              "      <th>504575</th>\n",
              "      <td>durgashankar</td>\n",
              "      <td>male</td>\n",
              "    </tr>\n",
              "  </tbody>\n",
              "</table>\n",
              "</div>\n",
              "      <button class=\"colab-df-convert\" onclick=\"convertToInteractive('df-43c8b6b7-391e-49c0-8038-ebe04ba05b48')\"\n",
              "              title=\"Convert this dataframe to an interactive table.\"\n",
              "              style=\"display:none;\">\n",
              "        \n",
              "  <svg xmlns=\"http://www.w3.org/2000/svg\" height=\"24px\"viewBox=\"0 0 24 24\"\n",
              "       width=\"24px\">\n",
              "    <path d=\"M0 0h24v24H0V0z\" fill=\"none\"/>\n",
              "    <path d=\"M18.56 5.44l.94 2.06.94-2.06 2.06-.94-2.06-.94-.94-2.06-.94 2.06-2.06.94zm-11 1L8.5 8.5l.94-2.06 2.06-.94-2.06-.94L8.5 2.5l-.94 2.06-2.06.94zm10 10l.94 2.06.94-2.06 2.06-.94-2.06-.94-.94-2.06-.94 2.06-2.06.94z\"/><path d=\"M17.41 7.96l-1.37-1.37c-.4-.4-.92-.59-1.43-.59-.52 0-1.04.2-1.43.59L10.3 9.45l-7.72 7.72c-.78.78-.78 2.05 0 2.83L4 21.41c.39.39.9.59 1.41.59.51 0 1.02-.2 1.41-.59l7.78-7.78 2.81-2.81c.8-.78.8-2.07 0-2.86zM5.41 20L4 18.59l7.72-7.72 1.47 1.35L5.41 20z\"/>\n",
              "  </svg>\n",
              "      </button>\n",
              "      \n",
              "  <style>\n",
              "    .colab-df-container {\n",
              "      display:flex;\n",
              "      flex-wrap:wrap;\n",
              "      gap: 12px;\n",
              "    }\n",
              "\n",
              "    .colab-df-convert {\n",
              "      background-color: #E8F0FE;\n",
              "      border: none;\n",
              "      border-radius: 50%;\n",
              "      cursor: pointer;\n",
              "      display: none;\n",
              "      fill: #1967D2;\n",
              "      height: 32px;\n",
              "      padding: 0 0 0 0;\n",
              "      width: 32px;\n",
              "    }\n",
              "\n",
              "    .colab-df-convert:hover {\n",
              "      background-color: #E2EBFA;\n",
              "      box-shadow: 0px 1px 2px rgba(60, 64, 67, 0.3), 0px 1px 3px 1px rgba(60, 64, 67, 0.15);\n",
              "      fill: #174EA6;\n",
              "    }\n",
              "\n",
              "    [theme=dark] .colab-df-convert {\n",
              "      background-color: #3B4455;\n",
              "      fill: #D2E3FC;\n",
              "    }\n",
              "\n",
              "    [theme=dark] .colab-df-convert:hover {\n",
              "      background-color: #434B5C;\n",
              "      box-shadow: 0px 1px 3px 1px rgba(0, 0, 0, 0.15);\n",
              "      filter: drop-shadow(0px 1px 2px rgba(0, 0, 0, 0.3));\n",
              "      fill: #FFFFFF;\n",
              "    }\n",
              "  </style>\n",
              "\n",
              "      <script>\n",
              "        const buttonEl =\n",
              "          document.querySelector('#df-43c8b6b7-391e-49c0-8038-ebe04ba05b48 button.colab-df-convert');\n",
              "        buttonEl.style.display =\n",
              "          google.colab.kernel.accessAllowed ? 'block' : 'none';\n",
              "\n",
              "        async function convertToInteractive(key) {\n",
              "          const element = document.querySelector('#df-43c8b6b7-391e-49c0-8038-ebe04ba05b48');\n",
              "          const dataTable =\n",
              "            await google.colab.kernel.invokeFunction('convertToInteractive',\n",
              "                                                     [key], {});\n",
              "          if (!dataTable) return;\n",
              "\n",
              "          const docLinkHtml = 'Like what you see? Visit the ' +\n",
              "            '<a target=\"_blank\" href=https://colab.research.google.com/notebooks/data_table.ipynb>data table notebook</a>'\n",
              "            + ' to learn more about interactive tables.';\n",
              "          element.innerHTML = '';\n",
              "          dataTable['output_type'] = 'display_data';\n",
              "          await google.colab.output.renderOutput(dataTable, element);\n",
              "          const docLink = document.createElement('div');\n",
              "          docLink.innerHTML = docLinkHtml;\n",
              "          element.appendChild(docLink);\n",
              "        }\n",
              "      </script>\n",
              "    </div>\n",
              "  </div>\n",
              "  "
            ]
          },
          "metadata": {},
          "execution_count": 6
        }
      ]
    },
    {
      "cell_type": "code",
      "source": [
        "n = 2\n",
        "ngrams = []\n",
        "for name in df['Name']:\n",
        "    bigrams = nltk.ngrams(name, n)\n",
        "    ngrams.append([''.join(gram) for gram in bigrams])"
      ],
      "metadata": {
        "id": "Uk-5AiN0MqnR"
      },
      "execution_count": null,
      "outputs": []
    },
    {
      "cell_type": "code",
      "source": [
        "tokenizer = Tokenizer()\n",
        "tokenizer.fit_on_texts(ngrams)\n",
        "sequences = tokenizer.texts_to_sequences(ngrams)\n",
        "padded_sequences = pad_sequences(sequences)"
      ],
      "metadata": {
        "id": "7V05mNavSH2S"
      },
      "execution_count": null,
      "outputs": []
    },
    {
      "cell_type": "code",
      "source": [
        "target = df['Gender'].map({'male': 0, 'female': 1})"
      ],
      "metadata": {
        "id": "Q4nFofyXNzKT"
      },
      "execution_count": null,
      "outputs": []
    },
    {
      "cell_type": "code",
      "source": [
        "X_train, X_test, y_train, y_test = train_test_split(padded_sequences, target, test_size=0.2, random_state=42)"
      ],
      "metadata": {
        "id": "Jf0BiBipN4eJ"
      },
      "execution_count": null,
      "outputs": []
    },
    {
      "cell_type": "code",
      "source": [
        "earlystop_callback = EarlyStopping(monitor='val_loss', patience=3)"
      ],
      "metadata": {
        "id": "uU-nBISdN6nr"
      },
      "execution_count": null,
      "outputs": []
    },
    {
      "cell_type": "code",
      "source": [
        "model = Sequential()\n",
        "model.add(Embedding(input_dim=len(tokenizer.word_index) + 1, output_dim=64, input_length=padded_sequences.shape[1]))\n",
        "model.add(Bidirectional(LSTM(128, dropout=0.2, recurrent_dropout=0.2, return_sequences=True)))\n",
        "model.add(Bidirectional(LSTM(64, dropout=0.2, recurrent_dropout=0.2)))\n",
        "model.add(Dense(64, activation='relu'))\n",
        "model.add(Dense(1, activation='sigmoid'))\n",
        "\n",
        "model.compile(loss='binary_crossentropy', optimizer='adam', metrics=['accuracy'])\n"
      ],
      "metadata": {
        "colab": {
          "base_uri": "https://localhost:8080/"
        },
        "id": "KilKTKVON6jw",
        "outputId": "1e6183f6-f0e0-4322-b6a1-6192580ade5d"
      },
      "execution_count": null,
      "outputs": [
        {
          "output_type": "stream",
          "name": "stderr",
          "text": [
            "WARNING:tensorflow:Layer lstm will not use cuDNN kernels since it doesn't meet the criteria. It will use a generic GPU kernel as fallback when running on GPU.\n",
            "WARNING:tensorflow:Layer lstm will not use cuDNN kernels since it doesn't meet the criteria. It will use a generic GPU kernel as fallback when running on GPU.\n",
            "WARNING:tensorflow:Layer lstm will not use cuDNN kernels since it doesn't meet the criteria. It will use a generic GPU kernel as fallback when running on GPU.\n",
            "WARNING:tensorflow:Layer lstm_1 will not use cuDNN kernels since it doesn't meet the criteria. It will use a generic GPU kernel as fallback when running on GPU.\n",
            "WARNING:tensorflow:Layer lstm_1 will not use cuDNN kernels since it doesn't meet the criteria. It will use a generic GPU kernel as fallback when running on GPU.\n",
            "WARNING:tensorflow:Layer lstm_1 will not use cuDNN kernels since it doesn't meet the criteria. It will use a generic GPU kernel as fallback when running on GPU.\n"
          ]
        }
      ]
    },
    {
      "cell_type": "code",
      "source": [
        "model.fit(X_train, y_train, validation_data=(X_test, y_test), epochs = 100, batch_size = 1000, callbacks=[earlystop_callback])"
      ],
      "metadata": {
        "colab": {
          "base_uri": "https://localhost:8080/"
        },
        "id": "3AIR-I8xN6gR",
        "outputId": "087f8bfa-f1f5-44c7-9bcf-211bee471520"
      },
      "execution_count": null,
      "outputs": [
        {
          "output_type": "stream",
          "name": "stdout",
          "text": [
            "Epoch 1/100\n",
            "407/407 [==============================] - 264s 616ms/step - loss: 0.4149 - accuracy: 0.8199 - val_loss: 0.3518 - val_accuracy: 0.8476\n",
            "Epoch 2/100\n",
            "407/407 [==============================] - 239s 588ms/step - loss: 0.3426 - accuracy: 0.8555 - val_loss: 0.3228 - val_accuracy: 0.8645\n",
            "Epoch 3/100\n",
            "407/407 [==============================] - 236s 581ms/step - loss: 0.3229 - accuracy: 0.8639 - val_loss: 0.3060 - val_accuracy: 0.8717\n",
            "Epoch 4/100\n",
            "407/407 [==============================] - 235s 577ms/step - loss: 0.3100 - accuracy: 0.8706 - val_loss: 0.2968 - val_accuracy: 0.8771\n",
            "Epoch 5/100\n",
            "407/407 [==============================] - 239s 588ms/step - loss: 0.3021 - accuracy: 0.8748 - val_loss: 0.2905 - val_accuracy: 0.8807\n",
            "Epoch 6/100\n",
            "407/407 [==============================] - 234s 574ms/step - loss: 0.2942 - accuracy: 0.8784 - val_loss: 0.2841 - val_accuracy: 0.8833\n",
            "Epoch 7/100\n",
            "407/407 [==============================] - 232s 571ms/step - loss: 0.2882 - accuracy: 0.8810 - val_loss: 0.2810 - val_accuracy: 0.8842\n",
            "Epoch 8/100\n",
            "407/407 [==============================] - 232s 571ms/step - loss: 0.2825 - accuracy: 0.8834 - val_loss: 0.2748 - val_accuracy: 0.8860\n",
            "Epoch 9/100\n",
            "407/407 [==============================] - 230s 565ms/step - loss: 0.2782 - accuracy: 0.8851 - val_loss: 0.2715 - val_accuracy: 0.8878\n",
            "Epoch 10/100\n",
            "407/407 [==============================] - 231s 567ms/step - loss: 0.2732 - accuracy: 0.8870 - val_loss: 0.2679 - val_accuracy: 0.8891\n",
            "Epoch 11/100\n",
            "407/407 [==============================] - 230s 566ms/step - loss: 0.2688 - accuracy: 0.8885 - val_loss: 0.2651 - val_accuracy: 0.8899\n",
            "Epoch 12/100\n",
            "407/407 [==============================] - 229s 563ms/step - loss: 0.2650 - accuracy: 0.8904 - val_loss: 0.2619 - val_accuracy: 0.8918\n",
            "Epoch 13/100\n",
            "407/407 [==============================] - 229s 563ms/step - loss: 0.2616 - accuracy: 0.8911 - val_loss: 0.2578 - val_accuracy: 0.8929\n",
            "Epoch 14/100\n",
            "407/407 [==============================] - 230s 564ms/step - loss: 0.2582 - accuracy: 0.8925 - val_loss: 0.2562 - val_accuracy: 0.8937\n",
            "Epoch 15/100\n",
            "407/407 [==============================] - 230s 565ms/step - loss: 0.2548 - accuracy: 0.8941 - val_loss: 0.2531 - val_accuracy: 0.8941\n",
            "Epoch 16/100\n",
            "407/407 [==============================] - 225s 554ms/step - loss: 0.2528 - accuracy: 0.8952 - val_loss: 0.2524 - val_accuracy: 0.8953\n",
            "Epoch 17/100\n",
            "407/407 [==============================] - 228s 561ms/step - loss: 0.2493 - accuracy: 0.8963 - val_loss: 0.2514 - val_accuracy: 0.8961\n",
            "Epoch 18/100\n",
            "407/407 [==============================] - 227s 559ms/step - loss: 0.2470 - accuracy: 0.8973 - val_loss: 0.2502 - val_accuracy: 0.8954\n",
            "Epoch 19/100\n",
            "407/407 [==============================] - 228s 560ms/step - loss: 0.2437 - accuracy: 0.8983 - val_loss: 0.2476 - val_accuracy: 0.8966\n",
            "Epoch 20/100\n",
            "407/407 [==============================] - 229s 562ms/step - loss: 0.2412 - accuracy: 0.8995 - val_loss: 0.2448 - val_accuracy: 0.8977\n",
            "Epoch 21/100\n",
            "407/407 [==============================] - 229s 561ms/step - loss: 0.2387 - accuracy: 0.9007 - val_loss: 0.2447 - val_accuracy: 0.8985\n",
            "Epoch 22/100\n",
            "407/407 [==============================] - 230s 566ms/step - loss: 0.2369 - accuracy: 0.9016 - val_loss: 0.2436 - val_accuracy: 0.8983\n",
            "Epoch 23/100\n",
            "407/407 [==============================] - 229s 563ms/step - loss: 0.2345 - accuracy: 0.9024 - val_loss: 0.2430 - val_accuracy: 0.8996\n",
            "Epoch 24/100\n",
            "407/407 [==============================] - 230s 564ms/step - loss: 0.2327 - accuracy: 0.9029 - val_loss: 0.2414 - val_accuracy: 0.8995\n",
            "Epoch 25/100\n",
            "407/407 [==============================] - 228s 559ms/step - loss: 0.2304 - accuracy: 0.9043 - val_loss: 0.2402 - val_accuracy: 0.8998\n",
            "Epoch 26/100\n",
            "407/407 [==============================] - 227s 557ms/step - loss: 0.2290 - accuracy: 0.9043 - val_loss: 0.2401 - val_accuracy: 0.9003\n",
            "Epoch 27/100\n",
            "407/407 [==============================] - 229s 562ms/step - loss: 0.2273 - accuracy: 0.9054 - val_loss: 0.2414 - val_accuracy: 0.9007\n",
            "Epoch 28/100\n",
            "407/407 [==============================] - 228s 560ms/step - loss: 0.2256 - accuracy: 0.9060 - val_loss: 0.2393 - val_accuracy: 0.9003\n",
            "Epoch 29/100\n",
            "407/407 [==============================] - 229s 562ms/step - loss: 0.2236 - accuracy: 0.9069 - val_loss: 0.2391 - val_accuracy: 0.9002\n",
            "Epoch 30/100\n",
            "407/407 [==============================] - 228s 561ms/step - loss: 0.2226 - accuracy: 0.9070 - val_loss: 0.2384 - val_accuracy: 0.9019\n",
            "Epoch 31/100\n",
            "407/407 [==============================] - 227s 557ms/step - loss: 0.2207 - accuracy: 0.9076 - val_loss: 0.2383 - val_accuracy: 0.9015\n",
            "Epoch 32/100\n",
            "407/407 [==============================] - 227s 557ms/step - loss: 0.2194 - accuracy: 0.9090 - val_loss: 0.2382 - val_accuracy: 0.9020\n",
            "Epoch 33/100\n",
            "407/407 [==============================] - 229s 563ms/step - loss: 0.2181 - accuracy: 0.9088 - val_loss: 0.2385 - val_accuracy: 0.9016\n",
            "Epoch 34/100\n",
            "407/407 [==============================] - 226s 556ms/step - loss: 0.2166 - accuracy: 0.9096 - val_loss: 0.2391 - val_accuracy: 0.9020\n",
            "Epoch 35/100\n",
            "407/407 [==============================] - 227s 558ms/step - loss: 0.2155 - accuracy: 0.9100 - val_loss: 0.2375 - val_accuracy: 0.9024\n",
            "Epoch 36/100\n",
            "407/407 [==============================] - 226s 556ms/step - loss: 0.2147 - accuracy: 0.9104 - val_loss: 0.2377 - val_accuracy: 0.9019\n",
            "Epoch 37/100\n",
            "407/407 [==============================] - 229s 562ms/step - loss: 0.2132 - accuracy: 0.9109 - val_loss: 0.2392 - val_accuracy: 0.9020\n",
            "Epoch 38/100\n",
            "407/407 [==============================] - 226s 557ms/step - loss: 0.2123 - accuracy: 0.9112 - val_loss: 0.2397 - val_accuracy: 0.9022\n"
          ]
        },
        {
          "output_type": "execute_result",
          "data": {
            "text/plain": [
              "<keras.callbacks.History at 0x7f7f518baf20>"
            ]
          },
          "metadata": {},
          "execution_count": 13
        }
      ]
    },
    {
      "cell_type": "code",
      "source": [
        "joblib.dump(tokenizer, modelpath + \"nameTokenizer040723.pkl\")\n",
        "model.save(modelpath + \"genderModel040723.h5\")"
      ],
      "metadata": {
        "id": "mpMGtoqtN6c-"
      },
      "execution_count": null,
      "outputs": []
    },
    {
      "cell_type": "code",
      "source": [
        "from tensorflow.keras.models import load_model\n",
        "def predict_gender(name):\n",
        "    #joblib.load(modelpath + )\n",
        "    model = load_model(modelpath + 'genderModel040723.h5')\n",
        "    n = 2\n",
        "    name = name.lower().replace('[^a-z\\s]+', '')\n",
        "    trigrams = nltk.ngrams(name, n)\n",
        "    ngrams = [''.join(gram) for gram in trigrams]\n",
        "    sequence = tokenizer.texts_to_sequences([ngrams])\n",
        "    padded_sequence = pad_sequences(sequence, maxlen=31)\n",
        "\n",
        "    # Make a prediction using the model\n",
        "    prediction = model.predict(padded_sequence)[0][0]\n",
        "    gender = 'female' if prediction > 0.5 else 'male'\n",
        "    prob_score = prediction if gender == 'female' else 1 - prediction\n",
        "\n",
        "    #return f\"{name} is {gender}, Prob Score: {prob_score}\"\n",
        "    return gender, prob_score"
      ],
      "metadata": {
        "id": "S0Y6hx5XN6Y0"
      },
      "execution_count": null,
      "outputs": []
    },
    {
      "cell_type": "code",
      "source": [
        "predict_gender('zia')"
      ],
      "metadata": {
        "colab": {
          "base_uri": "https://localhost:8080/"
        },
        "id": "yRmXftzMN6UD",
        "outputId": "af17fc5c-e932-4e1a-c01c-c27df3f0b397"
      },
      "execution_count": null,
      "outputs": [
        {
          "output_type": "stream",
          "name": "stderr",
          "text": [
            "WARNING:tensorflow:Layer lstm will not use cuDNN kernels since it doesn't meet the criteria. It will use a generic GPU kernel as fallback when running on GPU.\n",
            "WARNING:tensorflow:Layer lstm will not use cuDNN kernels since it doesn't meet the criteria. It will use a generic GPU kernel as fallback when running on GPU.\n",
            "WARNING:tensorflow:Layer lstm will not use cuDNN kernels since it doesn't meet the criteria. It will use a generic GPU kernel as fallback when running on GPU.\n",
            "WARNING:tensorflow:Layer lstm_1 will not use cuDNN kernels since it doesn't meet the criteria. It will use a generic GPU kernel as fallback when running on GPU.\n",
            "WARNING:tensorflow:Layer lstm_1 will not use cuDNN kernels since it doesn't meet the criteria. It will use a generic GPU kernel as fallback when running on GPU.\n",
            "WARNING:tensorflow:Layer lstm_1 will not use cuDNN kernels since it doesn't meet the criteria. It will use a generic GPU kernel as fallback when running on GPU.\n"
          ]
        },
        {
          "output_type": "stream",
          "name": "stdout",
          "text": [
            "1/1 [==============================] - 1s 1s/step\n"
          ]
        },
        {
          "output_type": "execute_result",
          "data": {
            "text/plain": [
              "('female', 0.98432434)"
            ]
          },
          "metadata": {},
          "execution_count": 30
        }
      ]
    },
    {
      "cell_type": "code",
      "source": [],
      "metadata": {
        "id": "HJOSkdMuN6Oy"
      },
      "execution_count": null,
      "outputs": []
    },
    {
      "cell_type": "code",
      "source": [],
      "metadata": {
        "id": "1NntApeRN6ME"
      },
      "execution_count": null,
      "outputs": []
    }
  ]
}